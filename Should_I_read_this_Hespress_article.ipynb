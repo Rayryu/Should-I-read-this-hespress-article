{
  "nbformat": 4,
  "nbformat_minor": 0,
  "metadata": {
    "colab": {
      "name": "Should I read this Hespress article.ipynb",
      "provenance": [],
      "collapsed_sections": [
        "yBQ4YGRCbCV5"
      ],
      "machine_shape": "hm",
      "authorship_tag": "ABX9TyMgxQ473GpNK7s5LtVipMMV",
      "include_colab_link": true
    },
    "kernelspec": {
      "name": "python3",
      "display_name": "Python 3"
    },
    "accelerator": "GPU"
  },
  "cells": [
    {
      "cell_type": "markdown",
      "metadata": {
        "id": "view-in-github",
        "colab_type": "text"
      },
      "source": [
        "<a href=\"https://colab.research.google.com/github/Rayryu/Should-I-read-this-hespress-article/blob/master/Should_I_read_this_Hespress_article.ipynb\" target=\"_parent\"><img src=\"https://colab.research.google.com/assets/colab-badge.svg\" alt=\"Open In Colab\"/></a>"
      ]
    },
    {
      "cell_type": "markdown",
      "metadata": {
        "id": "L4oUVhRBNZsB",
        "colab_type": "text"
      },
      "source": [
        "# Setting up environment and imports"
      ]
    },
    {
      "cell_type": "code",
      "metadata": {
        "id": "fvEieBafIz55",
        "colab_type": "code",
        "colab": {
          "base_uri": "https://localhost:8080/",
          "height": 50
        },
        "outputId": "ba4e1db8-f92c-4dd6-b5ad-99c286c77beb"
      },
      "source": [
        "!pip install selenium"
      ],
      "execution_count": 20,
      "outputs": [
        {
          "output_type": "stream",
          "text": [
            "Requirement already satisfied: selenium in /usr/local/lib/python3.6/dist-packages (3.141.0)\n",
            "Requirement already satisfied: urllib3 in /usr/local/lib/python3.6/dist-packages (from selenium) (1.24.3)\n"
          ],
          "name": "stdout"
        }
      ]
    },
    {
      "cell_type": "code",
      "metadata": {
        "id": "qgLoy5NpHLnZ",
        "colab_type": "code",
        "colab": {}
      },
      "source": [
        "import sys\n",
        "from selenium import webdriver\n",
        "import pandas as pd\n",
        "import matplotlib.pyplot as plt\n",
        "import re\n",
        "from sklearn.model_selection import train_test_split\n",
        "import random\n",
        "from sklearn.pipeline import Pipeline\n",
        "from sklearn.feature_extraction.text import TfidfVectorizer\n",
        "from sklearn.linear_model import LogisticRegression\n",
        "from sklearn.model_selection import KFold, StratifiedKFold\n",
        "import numpy as np\n",
        "from sklearn.metrics import mean_squared_error as mse\n",
        "from sklearn.model_selection import GridSearchCV"
      ],
      "execution_count": 0,
      "outputs": []
    },
    {
      "cell_type": "code",
      "metadata": {
        "id": "l1KFqZMoD2bD",
        "colab_type": "code",
        "colab": {}
      },
      "source": [
        "# For reproducibility\n",
        "seed = random.seed()"
      ],
      "execution_count": 0,
      "outputs": []
    },
    {
      "cell_type": "markdown",
      "metadata": {
        "id": "Nid8E6dgF5nv",
        "colab_type": "text"
      },
      "source": [
        "# Scraping data from one article"
      ]
    },
    {
      "cell_type": "markdown",
      "metadata": {
        "id": "wrDV3bwJNXlK",
        "colab_type": "text"
      },
      "source": [
        "## Robot.txt"
      ]
    },
    {
      "cell_type": "markdown",
      "metadata": {
        "id": "tHWhtAy8F_Ch",
        "colab_type": "text"
      },
      "source": [
        "Hespress's robot.txt file allows crawling any url ending with .html with is perfect for this project since we are only extraction articles data. \n",
        "\n",
        "\n",
        "```\n",
        "User-agent: Alexabot\n",
        "Disallow:\n",
        "\n",
        "User-agent: *\n",
        "Disallow: /*?print$\n",
        "Disallow: /*/abuse.php\n",
        "Disallow: /abuse.php\n",
        "Disallow: /mobile/abuse.php\n",
        "Disallow: /*/mobile/abuse.php\n",
        "```\n",
        "\n"
      ]
    },
    {
      "cell_type": "markdown",
      "metadata": {
        "id": "ZWA_5EwVNhYY",
        "colab_type": "text"
      },
      "source": [
        "## Running a chromdriver"
      ]
    },
    {
      "cell_type": "markdown",
      "metadata": {
        "id": "A0qj-IzBLex8",
        "colab_type": "text"
      },
      "source": [
        "We're setting up a chromiumdriver in colab."
      ]
    },
    {
      "cell_type": "code",
      "metadata": {
        "id": "Y_wwl5RcJFox",
        "colab_type": "code",
        "colab": {
          "base_uri": "https://localhost:8080/",
          "height": 336
        },
        "outputId": "8a5675f0-edfb-40f9-e879-37b84b608b20"
      },
      "source": [
        "!apt-get update # to update ubuntu to correctly run apt install\n",
        "!apt install chromium-chromedriver\n",
        "!cp /usr/lib/chromium-browser/chromedriver /usr/bin\n",
        "\n",
        "sys.path.insert(0,'/usr/lib/chromium-browser/chromedriver')"
      ],
      "execution_count": 23,
      "outputs": [
        {
          "output_type": "stream",
          "text": [
            "\r0% [Working]\r            \rHit:1 http://ppa.launchpad.net/graphics-drivers/ppa/ubuntu bionic InRelease\n",
            "\r0% [Connecting to archive.ubuntu.com (91.189.88.142)] [Waiting for headers] [Co\r                                                                               \rGet:2 http://security.ubuntu.com/ubuntu bionic-security InRelease [88.7 kB]\n",
            "\r0% [Waiting for headers] [2 InRelease 5,482 B/88.7 kB 6%] [Connecting to cloud.\r0% [1 InRelease gpgv 21.3 kB] [Waiting for headers] [2 InRelease 5,482 B/88.7 k\r                                                                               \rHit:3 http://archive.ubuntu.com/ubuntu bionic InRelease\n",
            "\r0% [1 InRelease gpgv 21.3 kB] [2 InRelease 17.1 kB/88.7 kB 19%] [Connected to c\r                                                                               \rHit:4 https://cloud.r-project.org/bin/linux/ubuntu bionic-cran35/ InRelease\n",
            "\r0% [1 InRelease gpgv 21.3 kB] [Waiting for headers] [2 InRelease 37.3 kB/88.7 k\r                                                                               \rHit:5 http://ppa.launchpad.net/marutter/c2d4u3.5/ubuntu bionic InRelease\n",
            "\r0% [1 InRelease gpgv 21.3 kB] [Waiting for headers] [2 InRelease 43.1 kB/88.7 k\r                                                                               \rHit:6 http://archive.ubuntu.com/ubuntu bionic-updates InRelease\n",
            "\r0% [1 InRelease gpgv 21.3 kB] [2 InRelease 46.0 kB/88.7 kB 52%] [Connected to d\r0% [Waiting for headers] [2 InRelease 54.7 kB/88.7 kB 62%] [Connected to develo\r0% [3 InRelease gpgv 242 kB] [Waiting for headers] [2 InRelease 54.7 kB/88.7 kB\r0% [3 InRelease gpgv 242 kB] [Waiting for headers] [Connected to developer.down\r                                                                               \rHit:7 http://archive.ubuntu.com/ubuntu bionic-backports InRelease\n",
            "\r0% [3 InRelease gpgv 242 kB] [Connected to developer.download.nvidia.com (152.1\r                                                                               \r0% [Waiting for headers]\r0% [4 InRelease gpgv 3,626 B] [Waiting for headers]\r                                                   \r0% [Waiting for headers]\r0% [5 InRelease gpgv 15.4 kB] [Waiting for headers]\r                                                   \rIgn:8 https://developer.download.nvidia.com/compute/cuda/repos/ubuntu1804/x86_64  InRelease\n",
            "\r                                                   \r0% [5 InRelease gpgv 15.4 kB]\r                             \r0% [Waiting for headers]\r0% [6 InRelease gpgv 88.7 kB] [Waiting for headers]\r                                                   \rIgn:9 https://developer.download.nvidia.com/compute/machine-learning/repos/ubuntu1804/x86_64  InRelease\n",
            "\r                                                   \r0% [6 InRelease gpgv 88.7 kB]\r                             \r0% [Waiting for headers]\r0% [2 InRelease gpgv 88.7 kB] [Waiting for headers]\r                                                   \rHit:10 https://developer.download.nvidia.com/compute/cuda/repos/ubuntu1804/x86_64  Release\n",
            "Hit:11 https://developer.download.nvidia.com/compute/machine-learning/repos/ubuntu1804/x86_64  Release\n",
            "Fetched 88.7 kB in 2s (49.0 kB/s)\n",
            "Reading package lists... Done\n",
            "Reading package lists... Done\n",
            "Building dependency tree       \n",
            "Reading state information... Done\n",
            "chromium-chromedriver is already the newest version (81.0.4044.122-0ubuntu0.18.04.1).\n",
            "0 upgraded, 0 newly installed, 0 to remove and 108 not upgraded.\n",
            "cp: '/usr/lib/chromium-browser/chromedriver' and '/usr/bin/chromedriver' are the same file\n"
          ],
          "name": "stdout"
        }
      ]
    },
    {
      "cell_type": "markdown",
      "metadata": {
        "id": "4OIB2SFrLtO6",
        "colab_type": "text"
      },
      "source": [
        "Here Selenium opens the chrome driver wihtout opening a new window."
      ]
    },
    {
      "cell_type": "code",
      "metadata": {
        "id": "AtaZpdzzJYIh",
        "colab_type": "code",
        "colab": {}
      },
      "source": [
        "chrome_options = webdriver.ChromeOptions()\n",
        "chrome_options.add_argument('--headless')\n",
        "chrome_options.add_argument('--no-sandbox')\n",
        "chrome_options.add_argument('--disable-dev-shm-usage')\n",
        "driver = webdriver.Chrome(\"chromedriver\", options=chrome_options)"
      ],
      "execution_count": 0,
      "outputs": []
    },
    {
      "cell_type": "markdown",
      "metadata": {
        "id": "9UKuI-Q6No2J",
        "colab_type": "text"
      },
      "source": [
        "## Extracting data "
      ]
    },
    {
      "cell_type": "markdown",
      "metadata": {
        "id": "1jXy21vXMktI",
        "colab_type": "text"
      },
      "source": [
        "The get() method will make the driver navigate to the given URL, and **wait** until the page is fully loaded! (unlike request library)"
      ]
    },
    {
      "cell_type": "code",
      "metadata": {
        "id": "vJdUMPmGJr33",
        "colab_type": "code",
        "colab": {}
      },
      "source": [
        "URL = \"https://www.hespress.com/societe/469822.html\"\n",
        "\n",
        "driver.get(URL)"
      ],
      "execution_count": 0,
      "outputs": []
    },
    {
      "cell_type": "markdown",
      "metadata": {
        "id": "DQrxyG7hNJmJ",
        "colab_type": "text"
      },
      "source": [
        "The HTML page is fully loaded now, and we can access it's content using driver's methods."
      ]
    },
    {
      "cell_type": "markdown",
      "metadata": {
        "id": "RhSflFS3N6es",
        "colab_type": "text"
      },
      "source": [
        "Article's title"
      ]
    },
    {
      "cell_type": "code",
      "metadata": {
        "id": "t6LQpnDYJx-R",
        "colab_type": "code",
        "colab": {}
      },
      "source": [
        "title_element = driver.find_elements_by_xpath(\"//h1[@class='page_title']\")  \n",
        "title = title_element[0].text"
      ],
      "execution_count": 0,
      "outputs": []
    },
    {
      "cell_type": "code",
      "metadata": {
        "id": "i18XjPFfK_A_",
        "colab_type": "code",
        "outputId": "6e524731-02ff-479a-b24d-e46b592034b7",
        "colab": {
          "base_uri": "https://localhost:8080/",
          "height": 34
        }
      },
      "source": [
        "print(title)"
      ],
      "execution_count": 28,
      "outputs": [
        {
          "output_type": "stream",
          "text": [
            "وزارة التربية تنفي \"قرار السبت\" وتطالب باستئناف الدراسة عن بُعد\n"
          ],
          "name": "stdout"
        }
      ]
    },
    {
      "cell_type": "markdown",
      "metadata": {
        "id": "aEqcBwF6ODLT",
        "colab_type": "text"
      },
      "source": [
        "Article's body"
      ]
    },
    {
      "cell_type": "code",
      "metadata": {
        "id": "HRk6hiLfItTM",
        "colab_type": "code",
        "colab": {}
      },
      "source": [
        "body_element = driver.find_element_by_xpath(\"//div[@id='article_body']\") \n",
        "body = body_element.text"
      ],
      "execution_count": 0,
      "outputs": []
    },
    {
      "cell_type": "code",
      "metadata": {
        "id": "ue5K8fHBQxEP",
        "colab_type": "code",
        "outputId": "99f30fd1-d849-4111-ca19-139900b513af",
        "colab": {
          "base_uri": "https://localhost:8080/",
          "height": 168
        }
      },
      "source": [
        "print(body)"
      ],
      "execution_count": 30,
      "outputs": [
        {
          "output_type": "stream",
          "text": [
            "هسبريس - نورالدين إكجان\n",
            "السبت 02 ماي 2020 - 14:00\n",
            "منهكة من تتبع تناسل صفحات وأخبار زائفة، جددت وزارة التربية الوطنية نفيها لحسابات إلكترونية باسم سعيد أمزازي، تشهد تعاليق كثيفة من تلاميذ وطلبة، يتفاعل معها صاحب الحساب بشكل غير لائق أحيانا، ما حتم الخروج لنفي صلة الوزير بها.\n",
            "وعلى امتداد الأسبوع الجاري، تناقلت العديد من الصفحات إمكانية الإفراج عن خبر استثنائي اليوم السبت، يتعلق أساسا بمستقبل السنة الدراسية، وهو ما تنفيه الوزارة جملة وتفصيلا، مطالبة المتعلمين بالانكباب على التحصيل الدراسي.\n",
            "ومنذ بداية فترة \"الحجر الصحي\"، خرجت وزارة التربية الوطنية لنفي صحة أخبار تتعلق بقرار سنة بيضاء أو إنجاح جميع التلاميذ أو توقيف الدراسة إلى غاية إشعار آخر، وهو ما أربك عمل الوزارة على امتداد فترة اعتماد \"التعليم عن بعد\".\n",
            "وإلى جانب الحسابات والصفحات المزورة، اشتكت الوزارة من اختراق الموقع الرسمي لقطاع التعليم العالي، وهو ما دفعها إلى الاستعانة بالسلطات المختصة من أجل التحري بخصوص الموضوع، وجر المسؤولين عن ذلك إلى القضاء.\n",
            "وحسب مصادر مسؤولة من داخل وزارة التربية الوطنية، فلا وجود نهائيا لقرار سيتخذ اليوم السبت، مشيرة إلى أن مباشرة الدراسة عن بعد ستكون يوم الاثنين، ولا مجال لنشر الإشاعات من أجل خلخلة السير العادي للعملية.\n",
            "وأضافت المصادر نفسها، في حديث لجريدة هسبريس الإلكترونية، أن الصفحات التي تحمل اسم الوزير وكذا اختراق موقع قطاع التعليم العالي، مرفوضان، مرجحة أن يكون طلبة وتلاميذ وراء ذلك مع اقتراب نهاية العطلة واستئناف الدراسة.\n",
            "ونفت الوزارة في وقت سابق كذلك صحة الأخبار المتداولة حول إجراء الامتحانات بشكل استثنائي، وتوجيه أمزازي مراسلة داخلية إلى رؤساء الجامعات بخصوص وضع بروتكول خاص بإجراء الامتحانات في الملاعب الرياضية والخيام.\n"
          ],
          "name": "stdout"
        }
      ]
    },
    {
      "cell_type": "markdown",
      "metadata": {
        "id": "ihRa96yaTcJk",
        "colab_type": "text"
      },
      "source": [
        "we need to remove the first wo lines (author and date)"
      ]
    },
    {
      "cell_type": "code",
      "metadata": {
        "id": "2dpO8YudQ1Oy",
        "colab_type": "code",
        "colab": {}
      },
      "source": [
        "body_splitted = body.split(\"\\n\")\n",
        "author = body_splitted[0].split(\"-\")[1]\n",
        "date = body_splitted[1]\n",
        "body = \"\".join(body.split(\"\\n\")[2:])"
      ],
      "execution_count": 0,
      "outputs": []
    },
    {
      "cell_type": "code",
      "metadata": {
        "id": "FdlPKwx4TmJ9",
        "colab_type": "code",
        "outputId": "d36cfb03-816d-4528-c2c1-d1a678628469",
        "colab": {
          "base_uri": "https://localhost:8080/",
          "height": 34
        }
      },
      "source": [
        "print(author)"
      ],
      "execution_count": 32,
      "outputs": [
        {
          "output_type": "stream",
          "text": [
            " نورالدين إكجان\n"
          ],
          "name": "stdout"
        }
      ]
    },
    {
      "cell_type": "code",
      "metadata": {
        "id": "_q4z9a5mUJm4",
        "colab_type": "code",
        "outputId": "ed88ea33-1540-418f-bdc4-b57544d4b32c",
        "colab": {
          "base_uri": "https://localhost:8080/",
          "height": 34
        }
      },
      "source": [
        "print(date)"
      ],
      "execution_count": 33,
      "outputs": [
        {
          "output_type": "stream",
          "text": [
            "السبت 02 ماي 2020 - 14:00\n"
          ],
          "name": "stdout"
        }
      ]
    },
    {
      "cell_type": "markdown",
      "metadata": {
        "id": "gbDIankCU-xB",
        "colab_type": "text"
      },
      "source": [
        "Comments and votes"
      ]
    },
    {
      "cell_type": "code",
      "metadata": {
        "id": "vYhyNO68UaWo",
        "colab_type": "code",
        "colab": {}
      },
      "source": [
        "comments_list_element = driver.find_elements_by_class_name(\"comment_text\") "
      ],
      "execution_count": 0,
      "outputs": []
    },
    {
      "cell_type": "code",
      "metadata": {
        "id": "TsWq_UhAVE3k",
        "colab_type": "code",
        "colab": {}
      },
      "source": [
        "comments = [comment.text for comment in comments_list_element]"
      ],
      "execution_count": 0,
      "outputs": []
    },
    {
      "cell_type": "code",
      "metadata": {
        "id": "suIH30ttWOlv",
        "colab_type": "code",
        "colab": {}
      },
      "source": [
        "votes_list_element = driver.find_elements_by_class_name(\"result\") "
      ],
      "execution_count": 0,
      "outputs": []
    },
    {
      "cell_type": "code",
      "metadata": {
        "id": "FC5qOn7IWQpe",
        "colab_type": "code",
        "colab": {}
      },
      "source": [
        "votes = [vote.text for vote in votes_list_element]"
      ],
      "execution_count": 0,
      "outputs": []
    },
    {
      "cell_type": "markdown",
      "metadata": {
        "id": "bSeJVzfMWhWI",
        "colab_type": "text"
      },
      "source": [
        "## Building a dataframe"
      ]
    },
    {
      "cell_type": "code",
      "metadata": {
        "id": "IzwzD69VWjcR",
        "colab_type": "code",
        "colab": {}
      },
      "source": [
        "data = pd.DataFrame(data={\"comment\":comments, \"vote\": votes})\n",
        "data[\"author\"] = author\n",
        "data[\"title\"] = title\n",
        "data[\"text\"] = body\n",
        "data[\"date\"] = date\n",
        "data = data[['author', 'title', 'text', 'comment', 'vote','date']]"
      ],
      "execution_count": 0,
      "outputs": []
    },
    {
      "cell_type": "code",
      "metadata": {
        "id": "G37U__PbW4L2",
        "colab_type": "code",
        "outputId": "9036eec7-48df-4494-8caf-45a0a2072fcd",
        "colab": {
          "base_uri": "https://localhost:8080/",
          "height": 195
        }
      },
      "source": [
        "data.head()"
      ],
      "execution_count": 39,
      "outputs": [
        {
          "output_type": "execute_result",
          "data": {
            "text/html": [
              "<div>\n",
              "<style scoped>\n",
              "    .dataframe tbody tr th:only-of-type {\n",
              "        vertical-align: middle;\n",
              "    }\n",
              "\n",
              "    .dataframe tbody tr th {\n",
              "        vertical-align: top;\n",
              "    }\n",
              "\n",
              "    .dataframe thead th {\n",
              "        text-align: right;\n",
              "    }\n",
              "</style>\n",
              "<table border=\"1\" class=\"dataframe\">\n",
              "  <thead>\n",
              "    <tr style=\"text-align: right;\">\n",
              "      <th></th>\n",
              "      <th>author</th>\n",
              "      <th>title</th>\n",
              "      <th>text</th>\n",
              "      <th>comment</th>\n",
              "      <th>vote</th>\n",
              "      <th>date</th>\n",
              "    </tr>\n",
              "  </thead>\n",
              "  <tbody>\n",
              "    <tr>\n",
              "      <th>0</th>\n",
              "      <td>نورالدين إكجان</td>\n",
              "      <td>وزارة التربية تنفي \"قرار السبت\" وتطالب باستئنا...</td>\n",
              "      <td>منهكة من تتبع تناسل صفحات وأخبار زائفة، جددت و...</td>\n",
              "      <td>تاحنا ماشي شغلنا ماعمرهوم مايديرو شي حاجة كاتف...</td>\n",
              "      <td>574</td>\n",
              "      <td>السبت 02 ماي 2020 - 14:00</td>\n",
              "    </tr>\n",
              "    <tr>\n",
              "      <th>1</th>\n",
              "      <td>نورالدين إكجان</td>\n",
              "      <td>وزارة التربية تنفي \"قرار السبت\" وتطالب باستئنا...</td>\n",
              "      <td>منهكة من تتبع تناسل صفحات وأخبار زائفة، جددت و...</td>\n",
              "      <td>الله يرحم الوالدين اعطيونا شي خبر يقين باش نعر...</td>\n",
              "      <td>1012</td>\n",
              "      <td>السبت 02 ماي 2020 - 14:00</td>\n",
              "    </tr>\n",
              "    <tr>\n",
              "      <th>2</th>\n",
              "      <td>نورالدين إكجان</td>\n",
              "      <td>وزارة التربية تنفي \"قرار السبت\" وتطالب باستئنا...</td>\n",
              "      <td>منهكة من تتبع تناسل صفحات وأخبار زائفة، جددت و...</td>\n",
              "      <td>كتلميذ مغربي لا يمكننا مواصلة هكذا دون معرفة م...</td>\n",
              "      <td>479</td>\n",
              "      <td>السبت 02 ماي 2020 - 14:00</td>\n",
              "    </tr>\n",
              "    <tr>\n",
              "      <th>3</th>\n",
              "      <td>نورالدين إكجان</td>\n",
              "      <td>وزارة التربية تنفي \"قرار السبت\" وتطالب باستئنا...</td>\n",
              "      <td>منهكة من تتبع تناسل صفحات وأخبار زائفة، جددت و...</td>\n",
              "      <td>الدراسة عن بعد لاحول ولا قوة الابالله. الناس م...</td>\n",
              "      <td>606</td>\n",
              "      <td>السبت 02 ماي 2020 - 14:00</td>\n",
              "    </tr>\n",
              "    <tr>\n",
              "      <th>4</th>\n",
              "      <td>نورالدين إكجان</td>\n",
              "      <td>وزارة التربية تنفي \"قرار السبت\" وتطالب باستئنا...</td>\n",
              "      <td>منهكة من تتبع تناسل صفحات وأخبار زائفة، جددت و...</td>\n",
              "      <td>صفحة الوزير لي فيها التعليقات راها موثقة ببطاق...</td>\n",
              "      <td>211</td>\n",
              "      <td>السبت 02 ماي 2020 - 14:00</td>\n",
              "    </tr>\n",
              "  </tbody>\n",
              "</table>\n",
              "</div>"
            ],
            "text/plain": [
              "            author  ...                       date\n",
              "0   نورالدين إكجان  ...  السبت 02 ماي 2020 - 14:00\n",
              "1   نورالدين إكجان  ...  السبت 02 ماي 2020 - 14:00\n",
              "2   نورالدين إكجان  ...  السبت 02 ماي 2020 - 14:00\n",
              "3   نورالدين إكجان  ...  السبت 02 ماي 2020 - 14:00\n",
              "4   نورالدين إكجان  ...  السبت 02 ماي 2020 - 14:00\n",
              "\n",
              "[5 rows x 6 columns]"
            ]
          },
          "metadata": {
            "tags": []
          },
          "execution_count": 39
        }
      ]
    },
    {
      "cell_type": "markdown",
      "metadata": {
        "id": "hoi2PdMbYH-7",
        "colab_type": "text"
      },
      "source": [
        "We can extract more features from the HTML page (like comment's date, article image...) but we will restrict ourselves to the 6 attributes that we have chosen."
      ]
    },
    {
      "cell_type": "markdown",
      "metadata": {
        "id": "2Z8D8fL6Yjqx",
        "colab_type": "text"
      },
      "source": [
        "## Wrapping up everything\n"
      ]
    },
    {
      "cell_type": "markdown",
      "metadata": {
        "id": "-cvpHpBWY9oB",
        "colab_type": "text"
      },
      "source": [
        "We want to write a function that takes in parameters an article's URL and returns a Pandas DataFrame with its content."
      ]
    },
    {
      "cell_type": "code",
      "metadata": {
        "id": "FRUVlzn9Y8Rh",
        "colab_type": "code",
        "colab": {}
      },
      "source": [
        "import sys\n",
        "from selenium import webdriver\n",
        "import pandas as pd\n",
        "import time\n",
        "\n",
        "def extract_data(url: str) -> pd.DataFrame:\n",
        "    \"\"\"Navigate to the giving URL and extract data from it's content.\n",
        "\n",
        "    Parameters:\n",
        "    url (string): article's url.\n",
        "\n",
        "    Returns:\n",
        "    pd.DataFrame: a Panda's DataFrame containing article's data.\n",
        "\n",
        "    \"\"\"\n",
        "    # Setting up environnement and creating a driver object\n",
        "    sys.path.insert(0,'/usr/lib/chromium-browser/chromedriver')\n",
        "    chrome_options = webdriver.ChromeOptions()\n",
        "    chrome_options.add_argument('--headless')\n",
        "    chrome_options.add_argument('--no-sandbox')\n",
        "    chrome_options.add_argument('--disable-dev-shm-usage')\n",
        "    driver = webdriver.Chrome(\"chromedriver\", options=chrome_options)\n",
        "    time.sleep(1)\n",
        "\n",
        "    # Navigate to the given URL, and wait until the page is fully loaded!\n",
        "    driver.get(url)\n",
        "    time.sleep(5)\n",
        "\n",
        "    # Extracting fields\n",
        "    title_element = driver.find_elements_by_xpath(\"//h1[@class='page_title']\")  \n",
        "    title = title_element[0].text\n",
        "\n",
        "    time.sleep(2)\n",
        "    body_element = driver.find_elements_by_id(\"article_body\") \n",
        "    body = body_element[0].text if len(body_element)>0 else \"\"\n",
        "    body_splitted = body.split(\"\\n\") \n",
        "    author = body_splitted[0].split(\"-\")[1] if \"-\" in body_splitted[0] else body_splitted[0]\n",
        "    date = body_splitted[1]\n",
        "    body = \"\".join(body.split(\"\\n\")[2:])\n",
        "\n",
        "    \n",
        "    comments_list_element = driver.find_elements_by_class_name(\"comment_text\") \n",
        "    comments = [comment.text for comment in comments_list_element]\n",
        "    \n",
        "    votes_list_element = driver.find_elements_by_class_name(\"result\") \n",
        "    votes = [vote.text for vote in votes_list_element]\n",
        "\n",
        "    # Building a Pandas Dataframe \n",
        "    data = pd.DataFrame(data={\"comment\":comments, \"vote\": votes})\n",
        "    data[\"author\"] = author\n",
        "    data[\"title\"] = title\n",
        "    data[\"text\"] = body\n",
        "    data[\"date\"] = date\n",
        "    data = data[['author', 'title', 'text', 'comment', 'vote','date']]\n",
        "\n",
        "    return data"
      ],
      "execution_count": 0,
      "outputs": []
    },
    {
      "cell_type": "code",
      "metadata": {
        "id": "fTZCur6bcKpZ",
        "colab_type": "code",
        "outputId": "84ecaa33-c2a4-4588-c554-ea193aec45a3",
        "colab": {
          "base_uri": "https://localhost:8080/",
          "height": 195
        }
      },
      "source": [
        "URL = \"https://www.hespress.com/societe/469866.html\"\n",
        "data = extract_data(URL)\n",
        "data.head()"
      ],
      "execution_count": 41,
      "outputs": [
        {
          "output_type": "execute_result",
          "data": {
            "text/html": [
              "<div>\n",
              "<style scoped>\n",
              "    .dataframe tbody tr th:only-of-type {\n",
              "        vertical-align: middle;\n",
              "    }\n",
              "\n",
              "    .dataframe tbody tr th {\n",
              "        vertical-align: top;\n",
              "    }\n",
              "\n",
              "    .dataframe thead th {\n",
              "        text-align: right;\n",
              "    }\n",
              "</style>\n",
              "<table border=\"1\" class=\"dataframe\">\n",
              "  <thead>\n",
              "    <tr style=\"text-align: right;\">\n",
              "      <th></th>\n",
              "      <th>author</th>\n",
              "      <th>title</th>\n",
              "      <th>text</th>\n",
              "      <th>comment</th>\n",
              "      <th>vote</th>\n",
              "      <th>date</th>\n",
              "    </tr>\n",
              "  </thead>\n",
              "  <tbody>\n",
              "    <tr>\n",
              "      <th>0</th>\n",
              "      <td>هسبريس من الرباط</td>\n",
              "      <td>جمعية توضح سياق صرف منح لموظفين بالسجن</td>\n",
              "      <td>ردا على ما جرى تداوله، مؤخرا، بخصوص \"صرف منحة ...</td>\n",
              "      <td>شكرا للجمعية على المبادرة على كل حال. اما مندو...</td>\n",
              "      <td>17</td>\n",
              "      <td>السبت 02 ماي 2020 - 19:35</td>\n",
              "    </tr>\n",
              "    <tr>\n",
              "      <th>1</th>\n",
              "      <td>هسبريس من الرباط</td>\n",
              "      <td>جمعية توضح سياق صرف منح لموظفين بالسجن</td>\n",
              "      <td>ردا على ما جرى تداوله، مؤخرا، بخصوص \"صرف منحة ...</td>\n",
              "      <td>أتعجب لما إدارة من المؤسسات المغربية او جمعية ...</td>\n",
              "      <td>11</td>\n",
              "      <td>السبت 02 ماي 2020 - 19:35</td>\n",
              "    </tr>\n",
              "    <tr>\n",
              "      <th>2</th>\n",
              "      <td>هسبريس من الرباط</td>\n",
              "      <td>جمعية توضح سياق صرف منح لموظفين بالسجن</td>\n",
              "      <td>ردا على ما جرى تداوله، مؤخرا، بخصوص \"صرف منحة ...</td>\n",
              "      <td>نتق في جمعية التكافل وننوه بكل ما تقوم به في س...</td>\n",
              "      <td>10</td>\n",
              "      <td>السبت 02 ماي 2020 - 19:35</td>\n",
              "    </tr>\n",
              "    <tr>\n",
              "      <th>3</th>\n",
              "      <td>هسبريس من الرباط</td>\n",
              "      <td>جمعية توضح سياق صرف منح لموظفين بالسجن</td>\n",
              "      <td>ردا على ما جرى تداوله، مؤخرا، بخصوص \"صرف منحة ...</td>\n",
              "      <td>اعلان فالمغرب ماكاين اش خدمة مضبوطة(اكاديمية)....</td>\n",
              "      <td>2</td>\n",
              "      <td>السبت 02 ماي 2020 - 19:35</td>\n",
              "    </tr>\n",
              "    <tr>\n",
              "      <th>4</th>\n",
              "      <td>هسبريس من الرباط</td>\n",
              "      <td>جمعية توضح سياق صرف منح لموظفين بالسجن</td>\n",
              "      <td>ردا على ما جرى تداوله، مؤخرا، بخصوص \"صرف منحة ...</td>\n",
              "      <td>الطابع شبه العسكري للقطاع والاعباء الجسيمة الم...</td>\n",
              "      <td>14</td>\n",
              "      <td>السبت 02 ماي 2020 - 19:35</td>\n",
              "    </tr>\n",
              "  </tbody>\n",
              "</table>\n",
              "</div>"
            ],
            "text/plain": [
              "             author  ...                       date\n",
              "0  هسبريس من الرباط  ...  السبت 02 ماي 2020 - 19:35\n",
              "1  هسبريس من الرباط  ...  السبت 02 ماي 2020 - 19:35\n",
              "2  هسبريس من الرباط  ...  السبت 02 ماي 2020 - 19:35\n",
              "3  هسبريس من الرباط  ...  السبت 02 ماي 2020 - 19:35\n",
              "4  هسبريس من الرباط  ...  السبت 02 ماي 2020 - 19:35\n",
              "\n",
              "[5 rows x 6 columns]"
            ]
          },
          "metadata": {
            "tags": []
          },
          "execution_count": 41
        }
      ]
    },
    {
      "cell_type": "markdown",
      "metadata": {
        "id": "IzWmpZMU-0Zd",
        "colab_type": "text"
      },
      "source": [
        "# Reading dataset"
      ]
    },
    {
      "cell_type": "code",
      "metadata": {
        "id": "9sCEA9w1-QRG",
        "colab_type": "code",
        "colab": {}
      },
      "source": [
        "data = pd.read_excel(\"ElecMorocco2016.xlsx\")\n",
        "data = data[[\"comment_message\", \"sentiment\"]]\n",
        "data.columns = [\"comment\", \"label\"]"
      ],
      "execution_count": 0,
      "outputs": []
    },
    {
      "cell_type": "code",
      "metadata": {
        "id": "NQUGgifDDqQU",
        "colab_type": "code",
        "colab": {
          "base_uri": "https://localhost:8080/",
          "height": 34
        },
        "outputId": "99f02b1e-a935-4b0e-a9d9-fb45c5d37ec7"
      },
      "source": [
        "data.shape"
      ],
      "execution_count": 43,
      "outputs": [
        {
          "output_type": "execute_result",
          "data": {
            "text/plain": [
              "(10254, 2)"
            ]
          },
          "metadata": {
            "tags": []
          },
          "execution_count": 43
        }
      ]
    },
    {
      "cell_type": "code",
      "metadata": {
        "id": "J8jTU1nyA6HD",
        "colab_type": "code",
        "colab": {
          "base_uri": "https://localhost:8080/",
          "height": 639
        },
        "outputId": "3c06b5fc-0514-42b4-f475-1a3a3c5cb802"
      },
      "source": [
        "data.head(20)"
      ],
      "execution_count": 44,
      "outputs": [
        {
          "output_type": "execute_result",
          "data": {
            "text/html": [
              "<div>\n",
              "<style scoped>\n",
              "    .dataframe tbody tr th:only-of-type {\n",
              "        vertical-align: middle;\n",
              "    }\n",
              "\n",
              "    .dataframe tbody tr th {\n",
              "        vertical-align: top;\n",
              "    }\n",
              "\n",
              "    .dataframe thead th {\n",
              "        text-align: right;\n",
              "    }\n",
              "</style>\n",
              "<table border=\"1\" class=\"dataframe\">\n",
              "  <thead>\n",
              "    <tr style=\"text-align: right;\">\n",
              "      <th></th>\n",
              "      <th>comment</th>\n",
              "      <th>label</th>\n",
              "    </tr>\n",
              "  </thead>\n",
              "  <tbody>\n",
              "    <tr>\n",
              "      <th>0</th>\n",
              "      <td>البكاء ليس سمت الرجال ..البكاء سلطة الضعفاء لك...</td>\n",
              "      <td>N</td>\n",
              "    </tr>\n",
              "    <tr>\n",
              "      <th>1</th>\n",
              "      <td>كلنا بنكيران\\nولاية ثانية ان شاء الله\\nموتوا ب...</td>\n",
              "      <td>P</td>\n",
              "    </tr>\n",
              "    <tr>\n",
              "      <th>2</th>\n",
              "      <td>الشركات في الدول المتقدمة تساهم في بناء أوطانه...</td>\n",
              "      <td>N</td>\n",
              "    </tr>\n",
              "    <tr>\n",
              "      <th>3</th>\n",
              "      <td>من ينتقد بن كران هم خصوم معارضة لى خاصها هي سل...</td>\n",
              "      <td>N</td>\n",
              "    </tr>\n",
              "    <tr>\n",
              "      <th>4</th>\n",
              "      <td>هدو صحاب بام توجدو راسهوم بغين اعفاءات ضريبية ...</td>\n",
              "      <td>N</td>\n",
              "    </tr>\n",
              "    <tr>\n",
              "      <th>5</th>\n",
              "      <td>في نظرك الحكومات السابقة كانت احسن اتقوا الله ...</td>\n",
              "      <td>P</td>\n",
              "    </tr>\n",
              "    <tr>\n",
              "      <th>6</th>\n",
              "      <td>رئيس الحكومة يمر بتجربة صعبة للغاية فرغم كل ال...</td>\n",
              "      <td>P</td>\n",
              "    </tr>\n",
              "    <tr>\n",
              "      <th>7</th>\n",
              "      <td>Zakaria Sam هل مستوى االعيش في بلادنا مثل فرنس...</td>\n",
              "      <td>N</td>\n",
              "    </tr>\n",
              "    <tr>\n",
              "      <th>8</th>\n",
              "      <td>احسن حكومة في المغرب ساصوت على العدالة والتنمي...</td>\n",
              "      <td>P</td>\n",
              "    </tr>\n",
              "    <tr>\n",
              "      <th>9</th>\n",
              "      <td>المنافقين هما البام لي مزال معرفتهم أش كيسواو ...</td>\n",
              "      <td>N</td>\n",
              "    </tr>\n",
              "    <tr>\n",
              "      <th>10</th>\n",
              "      <td>أنا أقول العكس البيجيدي اولا والبام ثانيا والف...</td>\n",
              "      <td>P</td>\n",
              "    </tr>\n",
              "    <tr>\n",
              "      <th>11</th>\n",
              "      <td>ما يبكي بن كيران ليس نفعه في الحكومة وانما يبك...</td>\n",
              "      <td>P</td>\n",
              "    </tr>\n",
              "    <tr>\n",
              "      <th>12</th>\n",
              "      <td>الا بغيتي تجلس مع صاحبتك في القهوة وتلبس رايبن...</td>\n",
              "      <td>P</td>\n",
              "    </tr>\n",
              "    <tr>\n",
              "      <th>13</th>\n",
              "      <td>البيجيدي اولا متبوعا بالتقدم والاشتراكية ثم اا...</td>\n",
              "      <td>P</td>\n",
              "    </tr>\n",
              "    <tr>\n",
              "      <th>14</th>\n",
              "      <td>للعدالة والتنمية و الاغلبية ساحقة باذن الله ال...</td>\n",
              "      <td>P</td>\n",
              "    </tr>\n",
              "    <tr>\n",
              "      <th>15</th>\n",
              "      <td>كيفما كان الحال بنكيران احسن رئيس الوزراء. او ...</td>\n",
              "      <td>P</td>\n",
              "    </tr>\n",
              "    <tr>\n",
              "      <th>16</th>\n",
              "      <td>أتحدى أي حزب ان يفعل كما فعل بن كران كلهم يبحث...</td>\n",
              "      <td>P</td>\n",
              "    </tr>\n",
              "    <tr>\n",
              "      <th>17</th>\n",
              "      <td>البيجيدي أولا والبام ثالثا...الخواض من دابا .....</td>\n",
              "      <td>P</td>\n",
              "    </tr>\n",
              "    <tr>\n",
              "      <th>18</th>\n",
              "      <td>انت افتخر بابوك لي طالق واد ديال الفلوس من وزا...</td>\n",
              "      <td>N</td>\n",
              "    </tr>\n",
              "    <tr>\n",
              "      <th>19</th>\n",
              "      <td>إن كان أحدهم يأمر بنكيران فلا جدوى من الانتخاب...</td>\n",
              "      <td>N</td>\n",
              "    </tr>\n",
              "  </tbody>\n",
              "</table>\n",
              "</div>"
            ],
            "text/plain": [
              "                                              comment label\n",
              "0   البكاء ليس سمت الرجال ..البكاء سلطة الضعفاء لك...     N\n",
              "1   كلنا بنكيران\\nولاية ثانية ان شاء الله\\nموتوا ب...     P\n",
              "2   الشركات في الدول المتقدمة تساهم في بناء أوطانه...     N\n",
              "3   من ينتقد بن كران هم خصوم معارضة لى خاصها هي سل...     N\n",
              "4   هدو صحاب بام توجدو راسهوم بغين اعفاءات ضريبية ...     N\n",
              "5   في نظرك الحكومات السابقة كانت احسن اتقوا الله ...     P\n",
              "6   رئيس الحكومة يمر بتجربة صعبة للغاية فرغم كل ال...     P\n",
              "7   Zakaria Sam هل مستوى االعيش في بلادنا مثل فرنس...     N\n",
              "8   احسن حكومة في المغرب ساصوت على العدالة والتنمي...     P\n",
              "9   المنافقين هما البام لي مزال معرفتهم أش كيسواو ...     N\n",
              "10  أنا أقول العكس البيجيدي اولا والبام ثانيا والف...     P\n",
              "11  ما يبكي بن كيران ليس نفعه في الحكومة وانما يبك...     P\n",
              "12  الا بغيتي تجلس مع صاحبتك في القهوة وتلبس رايبن...     P\n",
              "13  البيجيدي اولا متبوعا بالتقدم والاشتراكية ثم اا...     P\n",
              "14  للعدالة والتنمية و الاغلبية ساحقة باذن الله ال...     P\n",
              "15  كيفما كان الحال بنكيران احسن رئيس الوزراء. او ...     P\n",
              "16  أتحدى أي حزب ان يفعل كما فعل بن كران كلهم يبحث...     P\n",
              "17  البيجيدي أولا والبام ثالثا...الخواض من دابا .....     P\n",
              "18  انت افتخر بابوك لي طالق واد ديال الفلوس من وزا...     N\n",
              "19  إن كان أحدهم يأمر بنكيران فلا جدوى من الانتخاب...     N"
            ]
          },
          "metadata": {
            "tags": []
          },
          "execution_count": 44
        }
      ]
    },
    {
      "cell_type": "code",
      "metadata": {
        "id": "OcbXZV-DA9Op",
        "colab_type": "code",
        "colab": {
          "base_uri": "https://localhost:8080/",
          "height": 67
        },
        "outputId": "ed9b84d2-fdc7-4987-9307-fbb05fd83629"
      },
      "source": [
        "data.isna().sum()"
      ],
      "execution_count": 45,
      "outputs": [
        {
          "output_type": "execute_result",
          "data": {
            "text/plain": [
              "comment    0\n",
              "label      0\n",
              "dtype: int64"
            ]
          },
          "metadata": {
            "tags": []
          },
          "execution_count": 45
        }
      ]
    },
    {
      "cell_type": "code",
      "metadata": {
        "id": "ym_HLfgXBPfN",
        "colab_type": "code",
        "colab": {
          "base_uri": "https://localhost:8080/",
          "height": 265
        },
        "outputId": "35f18394-5a01-4b49-a16c-1b9eb0fc4efe"
      },
      "source": [
        "_ = plt.hist(data.label)"
      ],
      "execution_count": 46,
      "outputs": [
        {
          "output_type": "display_data",
          "data": {
            "image/png": "[encoded data removed]",
            "text/plain": [
              "<Figure size 432x288 with 1 Axes>"
            ]
          },
          "metadata": {
            "tags": [],
            "needs_background": "light"
          }
        }
      ]
    },
    {
      "cell_type": "markdown",
      "metadata": {
        "id": "je9dgfo8-H6g",
        "colab_type": "text"
      },
      "source": [
        "# Building a baseline model"
      ]
    },
    {
      "cell_type": "markdown",
      "metadata": {
        "id": "MmuKfVAkBpqt",
        "colab_type": "text"
      },
      "source": [
        "## Data preprocessing"
      ]
    },
    {
      "cell_type": "markdown",
      "metadata": {
        "id": "ohZSDKx0DeVH",
        "colab_type": "text"
      },
      "source": [
        "### Cleaning data"
      ]
    },
    {
      "cell_type": "code",
      "metadata": {
        "id": "bJHZWrRMBeXx",
        "colab_type": "code",
        "colab": {}
      },
      "source": [
        "def clean_text(text):\n",
        "    # Replace latin words with spaces\n",
        "    text = re.sub(r'[A-z]+', \" \", text)\n",
        "    \n",
        "    # Replace punctuation characters with spaces\n",
        "    filters='!\"#$%&()*+,-./:;<=>?؟@[\\\\]^_`{|}~\\t\\n'\n",
        "    translate_dict = dict((c, \" \") for c in filters)\n",
        "    translate_map = str.maketrans(translate_dict)\n",
        "    text = text.translate(translate_map)\n",
        "\n",
        "    # Remove double spaces\n",
        "    text = re.sub(r\"  \", \" \", text)\n",
        "\n",
        "    return text"
      ],
      "execution_count": 0,
      "outputs": []
    },
    {
      "cell_type": "code",
      "metadata": {
        "id": "fk-KcqiGCNgq",
        "colab_type": "code",
        "colab": {}
      },
      "source": [
        "data.comment = data.comment.map(lambda x: clean_text(x))"
      ],
      "execution_count": 0,
      "outputs": []
    },
    {
      "cell_type": "markdown",
      "metadata": {
        "id": "Jm0sW15FDghU",
        "colab_type": "text"
      },
      "source": [
        "### Formating labels"
      ]
    },
    {
      "cell_type": "code",
      "metadata": {
        "id": "ogUJDiYMDCQC",
        "colab_type": "code",
        "colab": {}
      },
      "source": [
        "data.label = data.label.map(lambda x:0 if x==\"N\" else 1)"
      ],
      "execution_count": 0,
      "outputs": []
    },
    {
      "cell_type": "code",
      "metadata": {
        "id": "Iu8p4aK9DS-8",
        "colab_type": "code",
        "colab": {
          "base_uri": "https://localhost:8080/",
          "height": 787
        },
        "outputId": "e3dda944-7f1b-46de-e4a0-1a2c15d05f6d"
      },
      "source": [
        "data.head(25)"
      ],
      "execution_count": 50,
      "outputs": [
        {
          "output_type": "execute_result",
          "data": {
            "text/html": [
              "<div>\n",
              "<style scoped>\n",
              "    .dataframe tbody tr th:only-of-type {\n",
              "        vertical-align: middle;\n",
              "    }\n",
              "\n",
              "    .dataframe tbody tr th {\n",
              "        vertical-align: top;\n",
              "    }\n",
              "\n",
              "    .dataframe thead th {\n",
              "        text-align: right;\n",
              "    }\n",
              "</style>\n",
              "<table border=\"1\" class=\"dataframe\">\n",
              "  <thead>\n",
              "    <tr style=\"text-align: right;\">\n",
              "      <th></th>\n",
              "      <th>comment</th>\n",
              "      <th>label</th>\n",
              "    </tr>\n",
              "  </thead>\n",
              "  <tbody>\n",
              "    <tr>\n",
              "      <th>0</th>\n",
              "      <td>البكاء ليس سمت الرجال  البكاء سلطة الضعفاء لكس...</td>\n",
              "      <td>0</td>\n",
              "    </tr>\n",
              "    <tr>\n",
              "      <th>1</th>\n",
              "      <td>كلنا بنكيران ولاية ثانية ان شاء الله موتوا بحقدكم</td>\n",
              "      <td>1</td>\n",
              "    </tr>\n",
              "    <tr>\n",
              "      <th>2</th>\n",
              "      <td>الشركات في الدول المتقدمة تساهم في بناء أوطانه...</td>\n",
              "      <td>0</td>\n",
              "    </tr>\n",
              "    <tr>\n",
              "      <th>3</th>\n",
              "      <td>من ينتقد بن كران هم خصوم معارضة لى خاصها هي سل...</td>\n",
              "      <td>0</td>\n",
              "    </tr>\n",
              "    <tr>\n",
              "      <th>4</th>\n",
              "      <td>هدو صحاب بام توجدو راسهوم بغين اعفاءات ضريبية ...</td>\n",
              "      <td>0</td>\n",
              "    </tr>\n",
              "    <tr>\n",
              "      <th>5</th>\n",
              "      <td>في نظرك الحكومات السابقة كانت احسن اتقوا الله ...</td>\n",
              "      <td>1</td>\n",
              "    </tr>\n",
              "    <tr>\n",
              "      <th>6</th>\n",
              "      <td>رئيس الحكومة يمر بتجربة صعبة للغاية فرغم كل ال...</td>\n",
              "      <td>1</td>\n",
              "    </tr>\n",
              "    <tr>\n",
              "      <th>7</th>\n",
              "      <td>هل مستوى االعيش في بلادنا مثل فرنسا يونان اس...</td>\n",
              "      <td>0</td>\n",
              "    </tr>\n",
              "    <tr>\n",
              "      <th>8</th>\n",
              "      <td>احسن حكومة في المغرب ساصوت على العدالة والتنمي...</td>\n",
              "      <td>1</td>\n",
              "    </tr>\n",
              "    <tr>\n",
              "      <th>9</th>\n",
              "      <td>المنافقين هما البام لي مزال معرفتهم أش كيسواو ...</td>\n",
              "      <td>0</td>\n",
              "    </tr>\n",
              "    <tr>\n",
              "      <th>10</th>\n",
              "      <td>أنا أقول العكس البيجيدي اولا والبام ثانيا والف...</td>\n",
              "      <td>1</td>\n",
              "    </tr>\n",
              "    <tr>\n",
              "      <th>11</th>\n",
              "      <td>ما يبكي بن كيران ليس نفعه في الحكومة وانما يبك...</td>\n",
              "      <td>1</td>\n",
              "    </tr>\n",
              "    <tr>\n",
              "      <th>12</th>\n",
              "      <td>الا بغيتي تجلس مع صاحبتك في القهوة وتلبس رايبن...</td>\n",
              "      <td>1</td>\n",
              "    </tr>\n",
              "    <tr>\n",
              "      <th>13</th>\n",
              "      <td>البيجيدي اولا متبوعا بالتقدم والاشتراكية ثم اا...</td>\n",
              "      <td>1</td>\n",
              "    </tr>\n",
              "    <tr>\n",
              "      <th>14</th>\n",
              "      <td>للعدالة والتنمية و الاغلبية ساحقة باذن الله ال...</td>\n",
              "      <td>1</td>\n",
              "    </tr>\n",
              "    <tr>\n",
              "      <th>15</th>\n",
              "      <td>كيفما كان الحال بنكيران احسن رئيس الوزراء او ذ...</td>\n",
              "      <td>1</td>\n",
              "    </tr>\n",
              "    <tr>\n",
              "      <th>16</th>\n",
              "      <td>أتحدى أي حزب ان يفعل كما فعل بن كران كلهم يبحث...</td>\n",
              "      <td>1</td>\n",
              "    </tr>\n",
              "    <tr>\n",
              "      <th>17</th>\n",
              "      <td>البيجيدي أولا والبام ثالثا  الخواض من دابا  ال...</td>\n",
              "      <td>1</td>\n",
              "    </tr>\n",
              "    <tr>\n",
              "      <th>18</th>\n",
              "      <td>انت افتخر بابوك لي طالق واد ديال الفلوس من وزا...</td>\n",
              "      <td>0</td>\n",
              "    </tr>\n",
              "    <tr>\n",
              "      <th>19</th>\n",
              "      <td>إن كان أحدهم يأمر بنكيران فلا جدوى من الانتخاب...</td>\n",
              "      <td>0</td>\n",
              "    </tr>\n",
              "    <tr>\n",
              "      <th>20</th>\n",
              "      <td>من حق الباميين ان يحلموا فلا حق لنا ان نمنعهم ...</td>\n",
              "      <td>0</td>\n",
              "    </tr>\n",
              "    <tr>\n",
              "      <th>21</th>\n",
              "      <td>بغيت نعرف غير بنكيران 5 سنين هادي شنو دار زاد ...</td>\n",
              "      <td>1</td>\n",
              "    </tr>\n",
              "    <tr>\n",
              "      <th>22</th>\n",
              "      <td>نصوت لمن يتنازل عن راتبه و تقاعده و كل الإمتيا...</td>\n",
              "      <td>1</td>\n",
              "    </tr>\n",
              "    <tr>\n",
              "      <th>23</th>\n",
              "      <td>كونوا حياديين  لهاذه الحكومة محاسن رغم كل شيء</td>\n",
              "      <td>1</td>\n",
              "    </tr>\n",
              "    <tr>\n",
              "      <th>24</th>\n",
              "      <td>شكرا لبنكيران لانه اقتطع من راتبي ولاية ثانية ...</td>\n",
              "      <td>0</td>\n",
              "    </tr>\n",
              "  </tbody>\n",
              "</table>\n",
              "</div>"
            ],
            "text/plain": [
              "                                              comment  label\n",
              "0   البكاء ليس سمت الرجال  البكاء سلطة الضعفاء لكس...      0\n",
              "1   كلنا بنكيران ولاية ثانية ان شاء الله موتوا بحقدكم      1\n",
              "2   الشركات في الدول المتقدمة تساهم في بناء أوطانه...      0\n",
              "3   من ينتقد بن كران هم خصوم معارضة لى خاصها هي سل...      0\n",
              "4   هدو صحاب بام توجدو راسهوم بغين اعفاءات ضريبية ...      0\n",
              "5   في نظرك الحكومات السابقة كانت احسن اتقوا الله ...      1\n",
              "6   رئيس الحكومة يمر بتجربة صعبة للغاية فرغم كل ال...      1\n",
              "7     هل مستوى االعيش في بلادنا مثل فرنسا يونان اس...      0\n",
              "8   احسن حكومة في المغرب ساصوت على العدالة والتنمي...      1\n",
              "9   المنافقين هما البام لي مزال معرفتهم أش كيسواو ...      0\n",
              "10  أنا أقول العكس البيجيدي اولا والبام ثانيا والف...      1\n",
              "11  ما يبكي بن كيران ليس نفعه في الحكومة وانما يبك...      1\n",
              "12  الا بغيتي تجلس مع صاحبتك في القهوة وتلبس رايبن...      1\n",
              "13  البيجيدي اولا متبوعا بالتقدم والاشتراكية ثم اا...      1\n",
              "14  للعدالة والتنمية و الاغلبية ساحقة باذن الله ال...      1\n",
              "15  كيفما كان الحال بنكيران احسن رئيس الوزراء او ذ...      1\n",
              "16  أتحدى أي حزب ان يفعل كما فعل بن كران كلهم يبحث...      1\n",
              "17  البيجيدي أولا والبام ثالثا  الخواض من دابا  ال...      1\n",
              "18  انت افتخر بابوك لي طالق واد ديال الفلوس من وزا...      0\n",
              "19  إن كان أحدهم يأمر بنكيران فلا جدوى من الانتخاب...      0\n",
              "20  من حق الباميين ان يحلموا فلا حق لنا ان نمنعهم ...      0\n",
              "21  بغيت نعرف غير بنكيران 5 سنين هادي شنو دار زاد ...      1\n",
              "22  نصوت لمن يتنازل عن راتبه و تقاعده و كل الإمتيا...      1\n",
              "23     كونوا حياديين  لهاذه الحكومة محاسن رغم كل شيء       1\n",
              "24  شكرا لبنكيران لانه اقتطع من راتبي ولاية ثانية ...      0"
            ]
          },
          "metadata": {
            "tags": []
          },
          "execution_count": 50
        }
      ]
    },
    {
      "cell_type": "markdown",
      "metadata": {
        "id": "_CzANfRvDm6m",
        "colab_type": "text"
      },
      "source": [
        "## Training"
      ]
    },
    {
      "cell_type": "markdown",
      "metadata": {
        "id": "asVDD-gaDuJ_",
        "colab_type": "text"
      },
      "source": [
        "Spliting train data into training and validation sets."
      ]
    },
    {
      "cell_type": "code",
      "metadata": {
        "id": "nsHn68osDUZO",
        "colab_type": "code",
        "colab": {}
      },
      "source": [
        "X_train, X_valid, y_train, y_valid = train_test_split(\n",
        "    data.comment, data.label, stratify=data.label, random_state=seed, test_size=0.2, shuffle=True)"
      ],
      "execution_count": 0,
      "outputs": []
    },
    {
      "cell_type": "code",
      "metadata": {
        "id": "MvqSXd6gYzw1",
        "colab_type": "code",
        "colab": {}
      },
      "source": [
        "def rmse(true_labels: list, predicted_labels: list)->float:\n",
        "\n",
        "    return np.sqrt(mse(true_labels, predicted_labels)/len(true_labels))"
      ],
      "execution_count": 0,
      "outputs": []
    },
    {
      "cell_type": "markdown",
      "metadata": {
        "id": "Hf19S7FeEV5M",
        "colab_type": "text"
      },
      "source": [
        "### TF-IDF -> Logistic Regression"
      ]
    },
    {
      "cell_type": "markdown",
      "metadata": {
        "id": "psVgCfw3FmzE",
        "colab_type": "text"
      },
      "source": [
        "First we need to create a TF-IDF vectoirzer object. We'll be using a custom stop-words that we've found in this [repository](https://github.com/mohataher/arabic-stop-words/blob/master/list.txt)."
      ]
    },
    {
      "cell_type": "code",
      "metadata": {
        "id": "pTTFtNdjGbgr",
        "colab_type": "code",
        "colab": {}
      },
      "source": [
        "arabic_stop_words = [word[:-1] for word in open(\"list.txt\", \"r\")]"
      ],
      "execution_count": 0,
      "outputs": []
    },
    {
      "cell_type": "code",
      "metadata": {
        "id": "s1AOeNEZFcxd",
        "colab_type": "code",
        "colab": {}
      },
      "source": [
        "tfv = TfidfVectorizer(min_df=3, analyzer='word',token_pattern=r'\\w{1,}',\n",
        "            ngram_range=(1, 3), use_idf=1, smooth_idf=1, sublinear_tf=1,\n",
        "            stop_words = arabic_stop_words)"
      ],
      "execution_count": 0,
      "outputs": []
    },
    {
      "cell_type": "code",
      "metadata": {
        "id": "HWfkD04REGFh",
        "colab_type": "code",
        "colab": {
          "base_uri": "https://localhost:8080/",
          "height": 70
        },
        "outputId": "524df5f0-0a41-4d3e-ca21-25e4e2eefd84"
      },
      "source": [
        "# Fitting TF-IDF to both training and test sets (semi-supervised learning)\n",
        "tfv.fit(list(X_train) + list(X_valid))\n",
        "X_train_tfv =  tfv.transform(X_train) \n",
        "X_valid_tfv = tfv.transform(X_valid)"
      ],
      "execution_count": 55,
      "outputs": [
        {
          "output_type": "stream",
          "text": [
            "/usr/local/lib/python3.6/dist-packages/sklearn/feature_extraction/text.py:385: UserWarning: Your stop_words may be inconsistent with your preprocessing. Tokenizing the stop words generated tokens ['آمين', 'آها', 'أب', 'أخ', 'أف', 'أفعل', 'أفعله', 'ؤلاء', 'إل', 'إليك', 'إليكن', 'إم', 'إيه', 'ات', 'اتان', 'ارتد', 'انفك', 'بخ', 'برح', 'بس', 'تان', 'تبد', 'تحو', 'تعل', 'حد', 'حم', 'حي', 'خب', 'ذار', 'ذان', 'سيما', 'شتان', 'صه', 'ظن', 'عد', 'قط', 'كأي', 'مر', 'مكان', 'مكانكن', 'نب', 'هات', 'هاك', 'هب', 'واها', 'وراء'] not in stop_words.\n",
            "  'stop_words.' % sorted(inconsistent))\n"
          ],
          "name": "stderr"
        }
      ]
    },
    {
      "cell_type": "markdown",
      "metadata": {
        "id": "6nxaGMlHHUJX",
        "colab_type": "text"
      },
      "source": [
        "Then we'll be running a simple Logistic Regression classifier"
      ]
    },
    {
      "cell_type": "code",
      "metadata": {
        "id": "MfNUoBZvHQH_",
        "colab_type": "code",
        "colab": {
          "base_uri": "https://localhost:8080/",
          "height": 34
        },
        "outputId": "da62cd40-4f8c-4549-986a-354bba6f9b54"
      },
      "source": [
        "model = LogisticRegression(C=1, penalty='l2')\n",
        "model.fit(X_train_tfv, y_train)\n",
        "\n",
        "model.score(X_train_tfv, y_train) # score = 1 - mse"
      ],
      "execution_count": 56,
      "outputs": [
        {
          "output_type": "execute_result",
          "data": {
            "text/plain": [
              "0.8584664147263197"
            ]
          },
          "metadata": {
            "tags": []
          },
          "execution_count": 56
        }
      ]
    },
    {
      "cell_type": "code",
      "metadata": {
        "id": "Zw2ldiHgJ7Ul",
        "colab_type": "code",
        "colab": {
          "base_uri": "https://localhost:8080/",
          "height": 34
        },
        "outputId": "139ac328-f3d9-4157-cd8c-c5b96fd9b46b"
      },
      "source": [
        "model.score(X_valid_tfv, y_valid)"
      ],
      "execution_count": 57,
      "outputs": [
        {
          "output_type": "execute_result",
          "data": {
            "text/plain": [
              "0.7859580692345197"
            ]
          },
          "metadata": {
            "tags": []
          },
          "execution_count": 57
        }
      ]
    },
    {
      "cell_type": "markdown",
      "metadata": {
        "id": "bOfVaBYpOJ9D",
        "colab_type": "text"
      },
      "source": [
        "## Predict"
      ]
    },
    {
      "cell_type": "markdown",
      "metadata": {
        "id": "KNOYwl4XKQug",
        "colab_type": "text"
      },
      "source": [
        "Let's predict!"
      ]
    },
    {
      "cell_type": "code",
      "metadata": {
        "id": "wyiUnFx8J_lM",
        "colab_type": "code",
        "colab": {
          "base_uri": "https://localhost:8080/",
          "height": 195
        },
        "outputId": "dfcfa67d-1951-4d44-fcf4-2cec1e79416a"
      },
      "source": [
        "URL = \"https://www.hespress.com/sciences-nature/467266.html\"\n",
        "data = extract_data(URL)\n",
        "data.head()"
      ],
      "execution_count": 81,
      "outputs": [
        {
          "output_type": "execute_result",
          "data": {
            "text/html": [
              "<div>\n",
              "<style scoped>\n",
              "    .dataframe tbody tr th:only-of-type {\n",
              "        vertical-align: middle;\n",
              "    }\n",
              "\n",
              "    .dataframe tbody tr th {\n",
              "        vertical-align: top;\n",
              "    }\n",
              "\n",
              "    .dataframe thead th {\n",
              "        text-align: right;\n",
              "    }\n",
              "</style>\n",
              "<table border=\"1\" class=\"dataframe\">\n",
              "  <thead>\n",
              "    <tr style=\"text-align: right;\">\n",
              "      <th></th>\n",
              "      <th>author</th>\n",
              "      <th>title</th>\n",
              "      <th>text</th>\n",
              "      <th>comment</th>\n",
              "      <th>vote</th>\n",
              "      <th>date</th>\n",
              "    </tr>\n",
              "  </thead>\n",
              "  <tbody>\n",
              "    <tr>\n",
              "      <th>0</th>\n",
              "      <td>هسبريس من الرباط</td>\n",
              "      <td>شركة مغربية تصمم نفق تعقيم من فيروس كورونا</td>\n",
              "      <td>كشفت مجموعة \"جيت كونتراكتورز\" المغربية عن ابتك...</td>\n",
              "      <td>هذا النفق المعقم يجب أن يوضع أمام المستشفيات و...</td>\n",
              "      <td>95</td>\n",
              "      <td>الأحد 12 أبريل 2020 - 11:55</td>\n",
              "    </tr>\n",
              "    <tr>\n",
              "      <th>1</th>\n",
              "      <td>هسبريس من الرباط</td>\n",
              "      <td>شركة مغربية تصمم نفق تعقيم من فيروس كورونا</td>\n",
              "      <td>كشفت مجموعة \"جيت كونتراكتورز\" المغربية عن ابتك...</td>\n",
              "      <td>نسمع عن إبتكارات و لا نسمع عن براءات إختراع ! ...</td>\n",
              "      <td>57</td>\n",
              "      <td>الأحد 12 أبريل 2020 - 11:55</td>\n",
              "    </tr>\n",
              "    <tr>\n",
              "      <th>2</th>\n",
              "      <td>هسبريس من الرباط</td>\n",
              "      <td>شركة مغربية تصمم نفق تعقيم من فيروس كورونا</td>\n",
              "      <td>كشفت مجموعة \"جيت كونتراكتورز\" المغربية عن ابتك...</td>\n",
              "      <td>صباح الخير\\nبرافو ،\\nعمتم صباحا</td>\n",
              "      <td>22</td>\n",
              "      <td>الأحد 12 أبريل 2020 - 11:55</td>\n",
              "    </tr>\n",
              "    <tr>\n",
              "      <th>3</th>\n",
              "      <td>هسبريس من الرباط</td>\n",
              "      <td>شركة مغربية تصمم نفق تعقيم من فيروس كورونا</td>\n",
              "      <td>كشفت مجموعة \"جيت كونتراكتورز\" المغربية عن ابتك...</td>\n",
              "      <td>ماشاء الله تبارك الله عندنا طاقات وابداع البلا...</td>\n",
              "      <td>36</td>\n",
              "      <td>الأحد 12 أبريل 2020 - 11:55</td>\n",
              "    </tr>\n",
              "    <tr>\n",
              "      <th>4</th>\n",
              "      <td>هسبريس من الرباط</td>\n",
              "      <td>شركة مغربية تصمم نفق تعقيم من فيروس كورونا</td>\n",
              "      <td>كشفت مجموعة \"جيت كونتراكتورز\" المغربية عن ابتك...</td>\n",
              "      <td>فكرة جيد يمك استخدامها عند مداخل المستشفيات و ...</td>\n",
              "      <td>24</td>\n",
              "      <td>الأحد 12 أبريل 2020 - 11:55</td>\n",
              "    </tr>\n",
              "  </tbody>\n",
              "</table>\n",
              "</div>"
            ],
            "text/plain": [
              "             author  ...                         date\n",
              "0  هسبريس من الرباط  ...  الأحد 12 أبريل 2020 - 11:55\n",
              "1  هسبريس من الرباط  ...  الأحد 12 أبريل 2020 - 11:55\n",
              "2  هسبريس من الرباط  ...  الأحد 12 أبريل 2020 - 11:55\n",
              "3  هسبريس من الرباط  ...  الأحد 12 أبريل 2020 - 11:55\n",
              "4  هسبريس من الرباط  ...  الأحد 12 أبريل 2020 - 11:55\n",
              "\n",
              "[5 rows x 6 columns]"
            ]
          },
          "metadata": {
            "tags": []
          },
          "execution_count": 81
        }
      ]
    },
    {
      "cell_type": "code",
      "metadata": {
        "id": "GlNtSekoKXIM",
        "colab_type": "code",
        "colab": {}
      },
      "source": [
        "comments = data.comment\n",
        "cleaned_comments = comments.map(lambda x: clean_text(x))\n",
        "comments_tfv = tfv.transform(cleaned_comments)"
      ],
      "execution_count": 0,
      "outputs": []
    },
    {
      "cell_type": "code",
      "metadata": {
        "id": "v6YGLXDMKp61",
        "colab_type": "code",
        "colab": {}
      },
      "source": [
        "predictions = model.predict(comments_tfv)\n",
        "predictions_df = pd.DataFrame({\"comment\":comments, \"label\":predictions})\n",
        "pd.options.display.max_colwidth = 200\n",
        "predictions_df.head(25)"
      ],
      "execution_count": 0,
      "outputs": []
    },
    {
      "cell_type": "code",
      "metadata": {
        "id": "h6T0Xj3iK3qA",
        "colab_type": "code",
        "colab": {
          "base_uri": "https://localhost:8080/",
          "height": 265
        },
        "outputId": "4bd29a58-73fb-4053-a73a-4c2cb39b5cff"
      },
      "source": [
        "_ = plt.hist(predictions)"
      ],
      "execution_count": 84,
      "outputs": [
        {
          "output_type": "display_data",
          "data": {
            "image/png": "[encoded data removed]",
            "text/plain": [
              "<Figure size 432x288 with 1 Axes>"
            ]
          },
          "metadata": {
            "tags": [],
            "needs_background": "light"
          }
        }
      ]
    },
    {
      "cell_type": "code",
      "metadata": {
        "id": "g3rvswqiMFbT",
        "colab_type": "code",
        "colab": {
          "base_uri": "https://localhost:8080/",
          "height": 319
        },
        "outputId": "109fb201-9056-4bf6-be9e-e704077ea1d7"
      },
      "source": [
        "fig = plt.figure()\n",
        "ax = fig.add_axes([0,0,1,1])\n",
        "ax.axis('equal')\n",
        "sentiments = ['Positive', 'Negative']\n",
        "pourcentages = [sum(predictions==1)*100/len(predictions),100-sum(predictions==1)*100/len(predictions)]\n",
        "ax.pie(pourcentages, labels = sentiments,autopct='%1.2f%%')\n",
        "plt.show()"
      ],
      "execution_count": 85,
      "outputs": [
        {
          "output_type": "display_data",
          "data": {
            "image/png": "[encoded data removed]",
            "text/plain": [
              "<Figure size 432x288 with 1 Axes>"
            ]
          },
          "metadata": {
            "tags": []
          }
        }
      ]
    },
    {
      "cell_type": "markdown",
      "metadata": {
        "id": "yBQ4YGRCbCV5",
        "colab_type": "text"
      },
      "source": [
        "# Testing some classifiers"
      ]
    },
    {
      "cell_type": "code",
      "metadata": {
        "id": "gYnpK9uWaKTF",
        "colab_type": "code",
        "colab": {
          "base_uri": "https://localhost:8080/",
          "height": 319
        },
        "outputId": "75e7b0ef-ab92-4c43-bdc0-f33a00868b95"
      },
      "source": [
        "from sklearn.neural_network import MLPClassifier\n",
        "from sklearn.neighbors import KNeighborsClassifier\n",
        "from sklearn.svm import SVC\n",
        "from sklearn.gaussian_process import GaussianProcessClassifier\n",
        "from sklearn.gaussian_process.kernels import RBF\n",
        "from sklearn.tree import DecisionTreeClassifier\n",
        "from sklearn.ensemble import RandomForestClassifier, AdaBoostClassifier\n",
        "from sklearn.naive_bayes import GaussianNB\n",
        "from sklearn.discriminant_analysis import QuadraticDiscriminantAnalysis\n",
        "from xgboost import XGBClassifier\n",
        "\n",
        "names = [\"Logistic Regression\", \n",
        "         #\"Nearest Neighbors\", \n",
        "         \"Linear SVM\", \n",
        "         \"RBF SVM\", \n",
        "         \"Decision Tree\", \n",
        "         \"Random Forest\", \n",
        "         \"Neural Net\", \n",
        "         \"AdaBoost\",\n",
        "         #\"Naive Bayes\", \"QDA\"\n",
        "         \"XGboost\"]\n",
        "\n",
        "classifiers = [\n",
        "    LogisticRegression(),\n",
        "    #KNeighborsClassifier(3),\n",
        "    SVC(kernel=\"linear\", C=0.025),\n",
        "    SVC(gamma=2, C=1),\n",
        "    DecisionTreeClassifier(max_depth=5),\n",
        "    RandomForestClassifier(max_depth=5, n_estimators=10, max_features=1),\n",
        "    MLPClassifier(alpha=1, max_iter=1000),\n",
        "    AdaBoostClassifier(),\n",
        "    #GaussianNB(),\n",
        "    #QuadraticDiscriminantAnalysis(),\n",
        "    XGBClassifier()\n",
        "    ]\n",
        "\n",
        "for name, clf in zip(names, classifiers):\n",
        "    print(name)\n",
        "    if name in [\"Gaussian Process\"]:\n",
        "        clf.fit(X_train_tfv.toarray(), y_train)\n",
        "        score = clf.score(X_valid_tfv.toarray(), y_valid)\n",
        "    else:\n",
        "        clf.fit(X_train_tfv, y_train)\n",
        "        score = clf.score(X_valid_tfv, y_valid)\n",
        "\n",
        "    print(name + \": \" + str(score))"
      ],
      "execution_count": 61,
      "outputs": [
        {
          "output_type": "stream",
          "text": [
            "Logistic Regression\n",
            "Logistic Regression: 0.7859580692345197\n",
            "Nearest Neighbors\n",
            "Nearest Neighbors: 0.4144319843978547\n",
            "Linear SVM\n",
            "Linear SVM: 0.6674792784007801\n",
            "RBF SVM\n",
            "RBF SVM: 0.7610921501706485\n",
            "Decision Tree\n",
            "Decision Tree: 0.7055095075572891\n",
            "Random Forest\n",
            "Random Forest: 0.6416382252559727\n",
            "Neural Net\n",
            "Neural Net: 0.6509019990248659\n",
            "AdaBoost\n",
            "AdaBoost: 0.7518283764017553\n",
            "XGboost\n",
            "XGboost: 0.7401267674305217\n"
          ],
          "name": "stdout"
        }
      ]
    },
    {
      "cell_type": "code",
      "metadata": {
        "id": "k6bZTNRpbQzV",
        "colab_type": "code",
        "colab": {
          "base_uri": "https://localhost:8080/",
          "height": 420
        },
        "outputId": "8e50c685-628b-41aa-d248-a1cfa7239ae7"
      },
      "source": [
        "estimator = XGBClassifier(objective= 'binary:logistic', nthread=-1, seed=seed)\n",
        "parameters = {\n",
        "    'max_depth': range (2, 10, 1),\n",
        "    'n_estimators': range(60, 220, 40),\n",
        "    'learning_rate': [0.1, 0.01, 0.05]\n",
        "}\n",
        "grid_search = GridSearchCV(\n",
        "    estimator=estimator,\n",
        "    param_grid=parameters,\n",
        "    scoring = 'roc_auc',\n",
        "    n_jobs = -1,\n",
        "    cv = 10,\n",
        "    verbose=True\n",
        ")\n",
        "grid_search.fit(X_train_tfv, y_train)"
      ],
      "execution_count": 62,
      "outputs": [
        {
          "output_type": "stream",
          "text": [
            "Fitting 10 folds for each of 96 candidates, totalling 960 fits\n"
          ],
          "name": "stdout"
        },
        {
          "output_type": "stream",
          "text": [
            "[Parallel(n_jobs=-1)]: Using backend LokyBackend with 4 concurrent workers.\n",
            "[Parallel(n_jobs=-1)]: Done  42 tasks      | elapsed:   30.8s\n",
            "[Parallel(n_jobs=-1)]: Done 192 tasks      | elapsed:  4.0min\n",
            "[Parallel(n_jobs=-1)]: Done 442 tasks      | elapsed: 11.6min\n",
            "[Parallel(n_jobs=-1)]: Done 792 tasks      | elapsed: 22.4min\n",
            "[Parallel(n_jobs=-1)]: Done 960 out of 960 | elapsed: 29.3min finished\n"
          ],
          "name": "stderr"
        },
        {
          "output_type": "execute_result",
          "data": {
            "text/plain": [
              "GridSearchCV(cv=10, error_score=nan,\n",
              "             estimator=XGBClassifier(base_score=0.5, booster='gbtree',\n",
              "                                     colsample_bylevel=1, colsample_bynode=1,\n",
              "                                     colsample_bytree=1, gamma=0,\n",
              "                                     learning_rate=0.1, max_delta_step=0,\n",
              "                                     max_depth=3, min_child_weight=1,\n",
              "                                     missing=None, n_estimators=100, n_jobs=1,\n",
              "                                     nthread=-1, objective='binary:logistic',\n",
              "                                     random_state=0, reg_alpha=0, reg_lambda=1,\n",
              "                                     scale_pos_weight=1, seed=None, silent=None,\n",
              "                                     subsample=1, verbosity=1),\n",
              "             iid='deprecated', n_jobs=-1,\n",
              "             param_grid={'learning_rate': [0.1, 0.01, 0.05],\n",
              "                         'max_depth': range(2, 10),\n",
              "                         'n_estimators': range(60, 220, 40)},\n",
              "             pre_dispatch='2*n_jobs', refit=True, return_train_score=False,\n",
              "             scoring='roc_auc', verbose=True)"
            ]
          },
          "metadata": {
            "tags": []
          },
          "execution_count": 62
        }
      ]
    },
    {
      "cell_type": "code",
      "metadata": {
        "id": "2-25ZguFr_u5",
        "colab_type": "code",
        "colab": {
          "base_uri": "https://localhost:8080/",
          "height": 34
        },
        "outputId": "7d281dfe-e77b-4899-aaba-519e130c6cf8"
      },
      "source": [
        "grid_search.best_score_"
      ],
      "execution_count": 78,
      "outputs": [
        {
          "output_type": "execute_result",
          "data": {
            "text/plain": [
              "0.801677955401751"
            ]
          },
          "metadata": {
            "tags": []
          },
          "execution_count": 78
        }
      ]
    },
    {
      "cell_type": "code",
      "metadata": {
        "id": "9eqdAKXAdkSm",
        "colab_type": "code",
        "colab": {
          "base_uri": "https://localhost:8080/",
          "height": 34
        },
        "outputId": "57b996a3-2319-4ad9-c8a6-4cd0831b1bcf"
      },
      "source": [
        "grid_search.score(X_train_tfv, y_train)"
      ],
      "execution_count": 79,
      "outputs": [
        {
          "output_type": "execute_result",
          "data": {
            "text/plain": [
              "0.9294971351585828"
            ]
          },
          "metadata": {
            "tags": []
          },
          "execution_count": 79
        }
      ]
    },
    {
      "cell_type": "code",
      "metadata": {
        "id": "lDs7fv7wrdYM",
        "colab_type": "code",
        "colab": {
          "base_uri": "https://localhost:8080/",
          "height": 34
        },
        "outputId": "10523faf-fe35-48bd-b5d0-1a7ae26c9080"
      },
      "source": [
        "grid_search.score(X_valid_tfv, y_valid)"
      ],
      "execution_count": 80,
      "outputs": [
        {
          "output_type": "execute_result",
          "data": {
            "text/plain": [
              "0.8026332113392469"
            ]
          },
          "metadata": {
            "tags": []
          },
          "execution_count": 80
        }
      ]
    },
    {
      "cell_type": "code",
      "metadata": {
        "id": "7bd2vHVjrgAk",
        "colab_type": "code",
        "colab": {}
      },
      "source": [
        ""
      ],
      "execution_count": 0,
      "outputs": []
    }
  ]
}