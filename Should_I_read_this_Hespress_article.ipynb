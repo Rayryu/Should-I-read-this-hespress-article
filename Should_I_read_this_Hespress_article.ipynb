{
  "nbformat": 4,
  "nbformat_minor": 0,
  "metadata": {
    "colab": {
      "name": "Should I read this Hespress article.ipynb",
      "provenance": [],
      "collapsed_sections": [
        "wrDV3bwJNXlK",
        "L4oUVhRBNZsB",
        "ZWA_5EwVNhYY",
        "9UKuI-Q6No2J",
        "bSeJVzfMWhWI",
        "2Z8D8fL6Yjqx"
      ],
      "machine_shape": "hm",
      "authorship_tag": "ABX9TyMx/PfmJOL5JMq6JaDbidNc",
      "include_colab_link": true
    },
    "kernelspec": {
      "name": "python3",
      "display_name": "Python 3"
    },
    "accelerator": "GPU"
  },
  "cells": [
    {
      "cell_type": "markdown",
      "metadata": {
        "id": "view-in-github",
        "colab_type": "text"
      },
      "source": [
        "<a href=\"https://colab.research.google.com/github/Rayryu/Should-I-read-this-hespress-article/blob/master/Should_I_read_this_Hespress_article.ipynb\" target=\"_parent\"><img src=\"https://colab.research.google.com/assets/colab-badge.svg\" alt=\"Open In Colab\"/></a>"
      ]
    },
    {
      "cell_type": "markdown",
      "metadata": {
        "id": "Nid8E6dgF5nv",
        "colab_type": "text"
      },
      "source": [
        "## Scraping data"
      ]
    },
    {
      "cell_type": "markdown",
      "metadata": {
        "id": "wrDV3bwJNXlK",
        "colab_type": "text"
      },
      "source": [
        "## Robot.txt"
      ]
    },
    {
      "cell_type": "markdown",
      "metadata": {
        "id": "tHWhtAy8F_Ch",
        "colab_type": "text"
      },
      "source": [
        "Hespress's robot.txt file allows crawling any url ending with .html with is perfect for this project since we are only extraction articles data. \n",
        "\n",
        "\n",
        "```\n",
        "User-agent: Alexabot\n",
        "Disallow:\n",
        "\n",
        "User-agent: *\n",
        "Disallow: /*?print$\n",
        "Disallow: /*/abuse.php\n",
        "Disallow: /abuse.php\n",
        "Disallow: /mobile/abuse.php\n",
        "Disallow: /*/mobile/abuse.php\n",
        "```\n",
        "\n"
      ]
    },
    {
      "cell_type": "markdown",
      "metadata": {
        "id": "L4oUVhRBNZsB",
        "colab_type": "text"
      },
      "source": [
        "## Setting up environment and imports"
      ]
    },
    {
      "cell_type": "code",
      "metadata": {
        "id": "fvEieBafIz55",
        "colab_type": "code",
        "colab": {}
      },
      "source": [
        "!pip install selenium"
      ],
      "execution_count": 0,
      "outputs": []
    },
    {
      "cell_type": "code",
      "metadata": {
        "id": "qgLoy5NpHLnZ",
        "colab_type": "code",
        "colab": {}
      },
      "source": [
        "import sys\n",
        "from selenium import webdriver\n",
        "import pandas as pd"
      ],
      "execution_count": 0,
      "outputs": []
    },
    {
      "cell_type": "markdown",
      "metadata": {
        "id": "ZWA_5EwVNhYY",
        "colab_type": "text"
      },
      "source": [
        "## Running a chromdriver"
      ]
    },
    {
      "cell_type": "markdown",
      "metadata": {
        "id": "A0qj-IzBLex8",
        "colab_type": "text"
      },
      "source": [
        "We're setting up a chromiumdriver in colab."
      ]
    },
    {
      "cell_type": "code",
      "metadata": {
        "id": "Y_wwl5RcJFox",
        "colab_type": "code",
        "colab": {}
      },
      "source": [
        "!apt-get update # to update ubuntu to correctly run apt install\n",
        "!apt install chromium-chromedriver\n",
        "!cp /usr/lib/chromium-browser/chromedriver /usr/bin\n",
        "\n",
        "sys.path.insert(0,'/usr/lib/chromium-browser/chromedriver')"
      ],
      "execution_count": 0,
      "outputs": []
    },
    {
      "cell_type": "markdown",
      "metadata": {
        "id": "4OIB2SFrLtO6",
        "colab_type": "text"
      },
      "source": [
        "Here Selenium opens the chrome driver wihtout opening a new window."
      ]
    },
    {
      "cell_type": "code",
      "metadata": {
        "id": "AtaZpdzzJYIh",
        "colab_type": "code",
        "colab": {}
      },
      "source": [
        "chrome_options = webdriver.ChromeOptions()\n",
        "chrome_options.add_argument('--headless')\n",
        "chrome_options.add_argument('--no-sandbox')\n",
        "chrome_options.add_argument('--disable-dev-shm-usage')\n",
        "driver = webdriver.Chrome(\"chromedriver\", options=chrome_options)"
      ],
      "execution_count": 0,
      "outputs": []
    },
    {
      "cell_type": "markdown",
      "metadata": {
        "id": "9UKuI-Q6No2J",
        "colab_type": "text"
      },
      "source": [
        "## Extracting data "
      ]
    },
    {
      "cell_type": "markdown",
      "metadata": {
        "id": "1jXy21vXMktI",
        "colab_type": "text"
      },
      "source": [
        "The get() method will make the driver navigate to the given URL, and **wait** until the page is fully loaded! (unlike request library)"
      ]
    },
    {
      "cell_type": "code",
      "metadata": {
        "id": "vJdUMPmGJr33",
        "colab_type": "code",
        "colab": {}
      },
      "source": [
        "URL = \"https://www.hespress.com/societe/469822.html\"\n",
        "\n",
        "driver.get(URL)"
      ],
      "execution_count": 0,
      "outputs": []
    },
    {
      "cell_type": "markdown",
      "metadata": {
        "id": "DQrxyG7hNJmJ",
        "colab_type": "text"
      },
      "source": [
        "The HTML page is fully loaded now, and we can access it's content using driver's methods."
      ]
    },
    {
      "cell_type": "markdown",
      "metadata": {
        "id": "RhSflFS3N6es",
        "colab_type": "text"
      },
      "source": [
        "Article's title"
      ]
    },
    {
      "cell_type": "code",
      "metadata": {
        "id": "t6LQpnDYJx-R",
        "colab_type": "code",
        "colab": {}
      },
      "source": [
        "title_element = driver.find_elements_by_xpath(\"//h1[@class='page_title']\")  \n",
        "title = title_element[0].text"
      ],
      "execution_count": 0,
      "outputs": []
    },
    {
      "cell_type": "code",
      "metadata": {
        "id": "i18XjPFfK_A_",
        "colab_type": "code",
        "colab": {
          "base_uri": "https://localhost:8080/",
          "height": 34
        },
        "outputId": "748c4765-159c-4844-f886-f427eaa60dac"
      },
      "source": [
        "print(title)"
      ],
      "execution_count": 238,
      "outputs": [
        {
          "output_type": "stream",
          "text": [
            "وزارة التربية تنفي \"قرار السبت\" وتطالب باستئناف الدراسة عن بُعد\n"
          ],
          "name": "stdout"
        }
      ]
    },
    {
      "cell_type": "markdown",
      "metadata": {
        "id": "aEqcBwF6ODLT",
        "colab_type": "text"
      },
      "source": [
        "Article's body"
      ]
    },
    {
      "cell_type": "code",
      "metadata": {
        "id": "HRk6hiLfItTM",
        "colab_type": "code",
        "colab": {}
      },
      "source": [
        "body_element = driver.find_element_by_xpath(\"//div[@id='article_body']\") \n",
        "body = body_element.text"
      ],
      "execution_count": 0,
      "outputs": []
    },
    {
      "cell_type": "code",
      "metadata": {
        "id": "ue5K8fHBQxEP",
        "colab_type": "code",
        "colab": {
          "base_uri": "https://localhost:8080/",
          "height": 168
        },
        "outputId": "93f32bdc-75e5-4e1a-88d3-f18b7b3d5316"
      },
      "source": [
        "print(body)"
      ],
      "execution_count": 240,
      "outputs": [
        {
          "output_type": "stream",
          "text": [
            "هسبريس - نورالدين إكجان\n",
            "السبت 02 ماي 2020 - 14:00\n",
            "منهكة من تتبع تناسل صفحات وأخبار زائفة، جددت وزارة التربية الوطنية نفيها لحسابات إلكترونية باسم سعيد أمزازي، تشهد تعاليق كثيفة من تلاميذ وطلبة، يتفاعل معها صاحب الحساب بشكل غير لائق أحيانا، ما حتم الخروج لنفي صلة الوزير بها.\n",
            "وعلى امتداد الأسبوع الجاري، تناقلت العديد من الصفحات إمكانية الإفراج عن خبر استثنائي اليوم السبت، يتعلق أساسا بمستقبل السنة الدراسية، وهو ما تنفيه الوزارة جملة وتفصيلا، مطالبة المتعلمين بالانكباب على التحصيل الدراسي.\n",
            "ومنذ بداية فترة \"الحجر الصحي\"، خرجت وزارة التربية الوطنية لنفي صحة أخبار تتعلق بقرار سنة بيضاء أو إنجاح جميع التلاميذ أو توقيف الدراسة إلى غاية إشعار آخر، وهو ما أربك عمل الوزارة على امتداد فترة اعتماد \"التعليم عن بعد\".\n",
            "وإلى جانب الحسابات والصفحات المزورة، اشتكت الوزارة من اختراق الموقع الرسمي لقطاع التعليم العالي، وهو ما دفعها إلى الاستعانة بالسلطات المختصة من أجل التحري بخصوص الموضوع، وجر المسؤولين عن ذلك إلى القضاء.\n",
            "وحسب مصادر مسؤولة من داخل وزارة التربية الوطنية، فلا وجود نهائيا لقرار سيتخذ اليوم السبت، مشيرة إلى أن مباشرة الدراسة عن بعد ستكون يوم الاثنين، ولا مجال لنشر الإشاعات من أجل خلخلة السير العادي للعملية.\n",
            "وأضافت المصادر نفسها، في حديث لجريدة هسبريس الإلكترونية، أن الصفحات التي تحمل اسم الوزير وكذا اختراق موقع قطاع التعليم العالي، مرفوضان، مرجحة أن يكون طلبة وتلاميذ وراء ذلك مع اقتراب نهاية العطلة واستئناف الدراسة.\n",
            "ونفت الوزارة في وقت سابق كذلك صحة الأخبار المتداولة حول إجراء الامتحانات بشكل استثنائي، وتوجيه أمزازي مراسلة داخلية إلى رؤساء الجامعات بخصوص وضع بروتكول خاص بإجراء الامتحانات في الملاعب الرياضية والخيام.\n"
          ],
          "name": "stdout"
        }
      ]
    },
    {
      "cell_type": "markdown",
      "metadata": {
        "id": "ihRa96yaTcJk",
        "colab_type": "text"
      },
      "source": [
        "we need to remove the first wo lines (author and date)"
      ]
    },
    {
      "cell_type": "code",
      "metadata": {
        "id": "2dpO8YudQ1Oy",
        "colab_type": "code",
        "colab": {
          "base_uri": "https://localhost:8080/",
          "height": 212
        },
        "outputId": "9500ef4f-3a3f-4a17-bc83-bb294e5f6bd2"
      },
      "source": [
        "body_splitted = body.split(\"\\n\")\n",
        "author = body_splitted[0].split(\"-\")[1]\n",
        "date = body_splitted[1]\n",
        "body = \"\".join(body.split(\"\\n\")[2:])"
      ],
      "execution_count": 231,
      "outputs": [
        {
          "output_type": "error",
          "ename": "IndexError",
          "evalue": "ignored",
          "traceback": [
            "\u001b[0;31m---------------------------------------------------------------------------\u001b[0m",
            "\u001b[0;31mIndexError\u001b[0m                                Traceback (most recent call last)",
            "\u001b[0;32m<ipython-input-231-627c72654010>\u001b[0m in \u001b[0;36m<module>\u001b[0;34m()\u001b[0m\n\u001b[1;32m      1\u001b[0m \u001b[0mbody_splitted\u001b[0m \u001b[0;34m=\u001b[0m \u001b[0mbody\u001b[0m\u001b[0;34m.\u001b[0m\u001b[0msplit\u001b[0m\u001b[0;34m(\u001b[0m\u001b[0;34m\"\\n\"\u001b[0m\u001b[0;34m)\u001b[0m\u001b[0;34m\u001b[0m\u001b[0;34m\u001b[0m\u001b[0m\n\u001b[0;32m----> 2\u001b[0;31m \u001b[0mauthor\u001b[0m \u001b[0;34m=\u001b[0m \u001b[0mbody_splitted\u001b[0m\u001b[0;34m[\u001b[0m\u001b[0;36m0\u001b[0m\u001b[0;34m]\u001b[0m\u001b[0;34m.\u001b[0m\u001b[0msplit\u001b[0m\u001b[0;34m(\u001b[0m\u001b[0;34m\"-\"\u001b[0m\u001b[0;34m)\u001b[0m\u001b[0;34m[\u001b[0m\u001b[0;36m1\u001b[0m\u001b[0;34m]\u001b[0m\u001b[0;34m\u001b[0m\u001b[0;34m\u001b[0m\u001b[0m\n\u001b[0m\u001b[1;32m      3\u001b[0m \u001b[0mdate\u001b[0m \u001b[0;34m=\u001b[0m \u001b[0mbody_splitted\u001b[0m\u001b[0;34m[\u001b[0m\u001b[0;36m1\u001b[0m\u001b[0;34m]\u001b[0m\u001b[0;34m\u001b[0m\u001b[0;34m\u001b[0m\u001b[0m\n\u001b[1;32m      4\u001b[0m \u001b[0mbody\u001b[0m \u001b[0;34m=\u001b[0m \u001b[0;34m\"\"\u001b[0m\u001b[0;34m.\u001b[0m\u001b[0mjoin\u001b[0m\u001b[0;34m(\u001b[0m\u001b[0mbody\u001b[0m\u001b[0;34m.\u001b[0m\u001b[0msplit\u001b[0m\u001b[0;34m(\u001b[0m\u001b[0;34m\"\\n\"\u001b[0m\u001b[0;34m)\u001b[0m\u001b[0;34m[\u001b[0m\u001b[0;36m2\u001b[0m\u001b[0;34m:\u001b[0m\u001b[0;34m]\u001b[0m\u001b[0;34m)\u001b[0m\u001b[0;34m\u001b[0m\u001b[0;34m\u001b[0m\u001b[0m\n",
            "\u001b[0;31mIndexError\u001b[0m: list index out of range"
          ]
        }
      ]
    },
    {
      "cell_type": "code",
      "metadata": {
        "id": "FdlPKwx4TmJ9",
        "colab_type": "code",
        "colab": {
          "base_uri": "https://localhost:8080/",
          "height": 34
        },
        "outputId": "a318e74f-4a62-495d-e99e-ffdfff6a695e"
      },
      "source": [
        "print(author)"
      ],
      "execution_count": 90,
      "outputs": [
        {
          "output_type": "stream",
          "text": [
            " نورالدين إكجان\n"
          ],
          "name": "stdout"
        }
      ]
    },
    {
      "cell_type": "code",
      "metadata": {
        "id": "_q4z9a5mUJm4",
        "colab_type": "code",
        "colab": {
          "base_uri": "https://localhost:8080/",
          "height": 34
        },
        "outputId": "abcded19-3384-427f-bc8f-bb80612c348a"
      },
      "source": [
        "print(date)"
      ],
      "execution_count": 91,
      "outputs": [
        {
          "output_type": "stream",
          "text": [
            "السبت 02 ماي 2020 - 14:00\n"
          ],
          "name": "stdout"
        }
      ]
    },
    {
      "cell_type": "markdown",
      "metadata": {
        "id": "gbDIankCU-xB",
        "colab_type": "text"
      },
      "source": [
        "Comments and votes"
      ]
    },
    {
      "cell_type": "code",
      "metadata": {
        "id": "vYhyNO68UaWo",
        "colab_type": "code",
        "colab": {}
      },
      "source": [
        "comments_list_element = driver.find_elements_by_class_name(\"comment_text\") "
      ],
      "execution_count": 0,
      "outputs": []
    },
    {
      "cell_type": "code",
      "metadata": {
        "id": "TsWq_UhAVE3k",
        "colab_type": "code",
        "colab": {}
      },
      "source": [
        "comments = [comment.text for comment in comments_list_element]"
      ],
      "execution_count": 0,
      "outputs": []
    },
    {
      "cell_type": "code",
      "metadata": {
        "id": "suIH30ttWOlv",
        "colab_type": "code",
        "colab": {}
      },
      "source": [
        "votes_list_element = driver.find_elements_by_class_name(\"result\") "
      ],
      "execution_count": 0,
      "outputs": []
    },
    {
      "cell_type": "code",
      "metadata": {
        "id": "FC5qOn7IWQpe",
        "colab_type": "code",
        "colab": {}
      },
      "source": [
        "votes = [vote.text for vote in votes_list_element]"
      ],
      "execution_count": 0,
      "outputs": []
    },
    {
      "cell_type": "markdown",
      "metadata": {
        "id": "bSeJVzfMWhWI",
        "colab_type": "text"
      },
      "source": [
        "## Building a dataframe"
      ]
    },
    {
      "cell_type": "code",
      "metadata": {
        "id": "IzwzD69VWjcR",
        "colab_type": "code",
        "colab": {}
      },
      "source": [
        "data = pd.DataFrame(data={\"comment\":comments, \"vote\": votes})\n",
        "data[\"author\"] = author\n",
        "data[\"title\"] = title\n",
        "data[\"text\"] = body\n",
        "data[\"date\"] = date\n",
        "data = data[['author', 'title', 'text', 'comment', 'vote','date']]"
      ],
      "execution_count": 0,
      "outputs": []
    },
    {
      "cell_type": "code",
      "metadata": {
        "id": "G37U__PbW4L2",
        "colab_type": "code",
        "colab": {
          "base_uri": "https://localhost:8080/",
          "height": 195
        },
        "outputId": "c62e321f-a17a-4c99-de92-ff8dd185c64c"
      },
      "source": [
        "data.head()"
      ],
      "execution_count": 125,
      "outputs": [
        {
          "output_type": "execute_result",
          "data": {
            "text/html": [
              "<div>\n",
              "<style scoped>\n",
              "    .dataframe tbody tr th:only-of-type {\n",
              "        vertical-align: middle;\n",
              "    }\n",
              "\n",
              "    .dataframe tbody tr th {\n",
              "        vertical-align: top;\n",
              "    }\n",
              "\n",
              "    .dataframe thead th {\n",
              "        text-align: right;\n",
              "    }\n",
              "</style>\n",
              "<table border=\"1\" class=\"dataframe\">\n",
              "  <thead>\n",
              "    <tr style=\"text-align: right;\">\n",
              "      <th></th>\n",
              "      <th>author</th>\n",
              "      <th>title</th>\n",
              "      <th>text</th>\n",
              "      <th>comment</th>\n",
              "      <th>vote</th>\n",
              "      <th>date</th>\n",
              "    </tr>\n",
              "  </thead>\n",
              "  <tbody>\n",
              "    <tr>\n",
              "      <th>0</th>\n",
              "      <td>نورالدين إكجان</td>\n",
              "      <td>وزارة التربية تنفي \"قرار السبت\" وتطالب باستئنا...</td>\n",
              "      <td>منهكة من تتبع تناسل صفحات وأخبار زائفة، جددت و...</td>\n",
              "      <td>تاحنا ماشي شغلنا ماعمرهوم مايديرو شي حاجة كاتف...</td>\n",
              "      <td>504</td>\n",
              "      <td>السبت 02 ماي 2020 - 14:00</td>\n",
              "    </tr>\n",
              "    <tr>\n",
              "      <th>1</th>\n",
              "      <td>نورالدين إكجان</td>\n",
              "      <td>وزارة التربية تنفي \"قرار السبت\" وتطالب باستئنا...</td>\n",
              "      <td>منهكة من تتبع تناسل صفحات وأخبار زائفة، جددت و...</td>\n",
              "      <td>الله يرحم الوالدين اعطيونا شي خبر يقين باش نعر...</td>\n",
              "      <td>912</td>\n",
              "      <td>السبت 02 ماي 2020 - 14:00</td>\n",
              "    </tr>\n",
              "    <tr>\n",
              "      <th>2</th>\n",
              "      <td>نورالدين إكجان</td>\n",
              "      <td>وزارة التربية تنفي \"قرار السبت\" وتطالب باستئنا...</td>\n",
              "      <td>منهكة من تتبع تناسل صفحات وأخبار زائفة، جددت و...</td>\n",
              "      <td>كتلميذ مغربي لا يمكننا مواصلة هكذا دون معرفة م...</td>\n",
              "      <td>429</td>\n",
              "      <td>السبت 02 ماي 2020 - 14:00</td>\n",
              "    </tr>\n",
              "    <tr>\n",
              "      <th>3</th>\n",
              "      <td>نورالدين إكجان</td>\n",
              "      <td>وزارة التربية تنفي \"قرار السبت\" وتطالب باستئنا...</td>\n",
              "      <td>منهكة من تتبع تناسل صفحات وأخبار زائفة، جددت و...</td>\n",
              "      <td>الدراسة عن بعد لاحول ولا قوة الابالله. الناس م...</td>\n",
              "      <td>537</td>\n",
              "      <td>السبت 02 ماي 2020 - 14:00</td>\n",
              "    </tr>\n",
              "    <tr>\n",
              "      <th>4</th>\n",
              "      <td>نورالدين إكجان</td>\n",
              "      <td>وزارة التربية تنفي \"قرار السبت\" وتطالب باستئنا...</td>\n",
              "      <td>منهكة من تتبع تناسل صفحات وأخبار زائفة، جددت و...</td>\n",
              "      <td>صفحة الوزير لي فيها التعليقات راها موثقة ببطاق...</td>\n",
              "      <td>185</td>\n",
              "      <td>السبت 02 ماي 2020 - 14:00</td>\n",
              "    </tr>\n",
              "  </tbody>\n",
              "</table>\n",
              "</div>"
            ],
            "text/plain": [
              "            author  ...                       date\n",
              "0   نورالدين إكجان  ...  السبت 02 ماي 2020 - 14:00\n",
              "1   نورالدين إكجان  ...  السبت 02 ماي 2020 - 14:00\n",
              "2   نورالدين إكجان  ...  السبت 02 ماي 2020 - 14:00\n",
              "3   نورالدين إكجان  ...  السبت 02 ماي 2020 - 14:00\n",
              "4   نورالدين إكجان  ...  السبت 02 ماي 2020 - 14:00\n",
              "\n",
              "[5 rows x 6 columns]"
            ]
          },
          "metadata": {
            "tags": []
          },
          "execution_count": 125
        }
      ]
    },
    {
      "cell_type": "markdown",
      "metadata": {
        "id": "hoi2PdMbYH-7",
        "colab_type": "text"
      },
      "source": [
        "We can extract more features from the HTML page (like comment's date, article image...) but we will restrict ourselves to the 6 attributes that we have chosen."
      ]
    },
    {
      "cell_type": "markdown",
      "metadata": {
        "id": "2Z8D8fL6Yjqx",
        "colab_type": "text"
      },
      "source": [
        "## Wrapping up everything\n"
      ]
    },
    {
      "cell_type": "markdown",
      "metadata": {
        "id": "-cvpHpBWY9oB",
        "colab_type": "text"
      },
      "source": [
        "We want to write a function that takes in parameters an article's URL and returns a Pandas DataFrame with its content."
      ]
    },
    {
      "cell_type": "code",
      "metadata": {
        "id": "FRUVlzn9Y8Rh",
        "colab_type": "code",
        "colab": {}
      },
      "source": [
        "import sys\n",
        "from selenium import webdriver\n",
        "import pandas as pd\n",
        "import time\n",
        "\n",
        "def extract_data(url: str) -> pd.DataFrame:\n",
        "    \"\"\"Navigate to the giving URL and extract data from it's content.\n",
        "\n",
        "    Parameters:\n",
        "    url (string): article's url.\n",
        "\n",
        "    Returns:\n",
        "    pd.DataFrame: a Panda's DataFrame containing article's data.\n",
        "\n",
        "    \"\"\"\n",
        "    # Setting up environnement and creating a driver object\n",
        "    sys.path.insert(0,'/usr/lib/chromium-browser/chromedriver')\n",
        "    chrome_options = webdriver.ChromeOptions()\n",
        "    chrome_options.add_argument('--headless')\n",
        "    chrome_options.add_argument('--no-sandbox')\n",
        "    chrome_options.add_argument('--disable-dev-shm-usage')\n",
        "    driver = webdriver.Chrome(\"chromedriver\", options=chrome_options)\n",
        "    time.sleep(1)\n",
        "\n",
        "    # Navigate to the given URL, and wait until the page is fully loaded!\n",
        "    driver.get(url)\n",
        "    time.sleep(5)\n",
        "\n",
        "    # Extracting fields\n",
        "    title_element = driver.find_elements_by_xpath(\"//h1[@class='page_title']\")  \n",
        "    title = title_element[0].text\n",
        "\n",
        "    time.sleep(2)\n",
        "    body_element = driver.find_elements_by_id(\"article_body\") \n",
        "    body = body_element[0].text\n",
        "    body_splitted = body.split(\"\\n\")\n",
        "    author = body_splitted[0].split(\"-\")[1] if \"-\" in body_splitted[0] else body_splitted[0]\n",
        "    date = body_splitted[1]\n",
        "    body = \"\".join(body.split(\"\\n\")[2:])\n",
        "\n",
        "    \n",
        "    comments_list_element = driver.find_elements_by_class_name(\"comment_text\") \n",
        "    comments = [comment.text for comment in comments_list_element]\n",
        "    \n",
        "    votes_list_element = driver.find_elements_by_class_name(\"result\") \n",
        "    votes = [vote.text for vote in votes_list_element]\n",
        "\n",
        "    # Building a Pandas Dataframe \n",
        "    data = pd.DataFrame(data={\"comment\":comments, \"vote\": votes})\n",
        "    data[\"author\"] = author\n",
        "    data[\"title\"] = title\n",
        "    data[\"text\"] = body\n",
        "    data[\"date\"] = date\n",
        "    data = data[['author', 'title', 'text', 'comment', 'vote','date']]\n",
        "\n",
        "    return data"
      ],
      "execution_count": 0,
      "outputs": []
    },
    {
      "cell_type": "code",
      "metadata": {
        "id": "fTZCur6bcKpZ",
        "colab_type": "code",
        "colab": {
          "base_uri": "https://localhost:8080/",
          "height": 195
        },
        "outputId": "b32f4637-8dba-4e29-98be-95ef5b1e4fb9"
      },
      "source": [
        "URL = \"https://www.hespress.com/societe/469866.html\"\n",
        "data = extract_data(URL)\n",
        "data.head()"
      ],
      "execution_count": 251,
      "outputs": [
        {
          "output_type": "execute_result",
          "data": {
            "text/html": [
              "<div>\n",
              "<style scoped>\n",
              "    .dataframe tbody tr th:only-of-type {\n",
              "        vertical-align: middle;\n",
              "    }\n",
              "\n",
              "    .dataframe tbody tr th {\n",
              "        vertical-align: top;\n",
              "    }\n",
              "\n",
              "    .dataframe thead th {\n",
              "        text-align: right;\n",
              "    }\n",
              "</style>\n",
              "<table border=\"1\" class=\"dataframe\">\n",
              "  <thead>\n",
              "    <tr style=\"text-align: right;\">\n",
              "      <th></th>\n",
              "      <th>author</th>\n",
              "      <th>title</th>\n",
              "      <th>text</th>\n",
              "      <th>comment</th>\n",
              "      <th>vote</th>\n",
              "      <th>date</th>\n",
              "    </tr>\n",
              "  </thead>\n",
              "  <tbody>\n",
              "    <tr>\n",
              "      <th>0</th>\n",
              "      <td>هسبريس من الرباط</td>\n",
              "      <td>جمعية توضح سياق صرف منح لموظفين بالسجن</td>\n",
              "      <td>ردا على ما جرى تداوله، مؤخرا، بخصوص \"صرف منحة ...</td>\n",
              "      <td>شكرا للجمعية على المبادرة على كل حال. اما مندو...</td>\n",
              "      <td>8</td>\n",
              "      <td>السبت 02 ماي 2020 - 19:35</td>\n",
              "    </tr>\n",
              "    <tr>\n",
              "      <th>1</th>\n",
              "      <td>هسبريس من الرباط</td>\n",
              "      <td>جمعية توضح سياق صرف منح لموظفين بالسجن</td>\n",
              "      <td>ردا على ما جرى تداوله، مؤخرا، بخصوص \"صرف منحة ...</td>\n",
              "      <td>أتعجب لما إدارة من المؤسسات المغربية او جمعية ...</td>\n",
              "      <td>3</td>\n",
              "      <td>السبت 02 ماي 2020 - 19:35</td>\n",
              "    </tr>\n",
              "    <tr>\n",
              "      <th>2</th>\n",
              "      <td>هسبريس من الرباط</td>\n",
              "      <td>جمعية توضح سياق صرف منح لموظفين بالسجن</td>\n",
              "      <td>ردا على ما جرى تداوله، مؤخرا، بخصوص \"صرف منحة ...</td>\n",
              "      <td>نتق في جمعية التكافل وننوه بكل ما تقوم به في س...</td>\n",
              "      <td>5</td>\n",
              "      <td>السبت 02 ماي 2020 - 19:35</td>\n",
              "    </tr>\n",
              "    <tr>\n",
              "      <th>3</th>\n",
              "      <td>هسبريس من الرباط</td>\n",
              "      <td>جمعية توضح سياق صرف منح لموظفين بالسجن</td>\n",
              "      <td>ردا على ما جرى تداوله، مؤخرا، بخصوص \"صرف منحة ...</td>\n",
              "      <td>اعلان فالمغرب ماكاين اش خدمة مضبوطة(اكاديمية)....</td>\n",
              "      <td>1</td>\n",
              "      <td>السبت 02 ماي 2020 - 19:35</td>\n",
              "    </tr>\n",
              "    <tr>\n",
              "      <th>4</th>\n",
              "      <td>هسبريس من الرباط</td>\n",
              "      <td>جمعية توضح سياق صرف منح لموظفين بالسجن</td>\n",
              "      <td>ردا على ما جرى تداوله، مؤخرا، بخصوص \"صرف منحة ...</td>\n",
              "      <td>الطابع شبه العسكري للقطاع والاعباء الجسيمة الم...</td>\n",
              "      <td>8</td>\n",
              "      <td>السبت 02 ماي 2020 - 19:35</td>\n",
              "    </tr>\n",
              "  </tbody>\n",
              "</table>\n",
              "</div>"
            ],
            "text/plain": [
              "             author  ...                       date\n",
              "0  هسبريس من الرباط  ...  السبت 02 ماي 2020 - 19:35\n",
              "1  هسبريس من الرباط  ...  السبت 02 ماي 2020 - 19:35\n",
              "2  هسبريس من الرباط  ...  السبت 02 ماي 2020 - 19:35\n",
              "3  هسبريس من الرباط  ...  السبت 02 ماي 2020 - 19:35\n",
              "4  هسبريس من الرباط  ...  السبت 02 ماي 2020 - 19:35\n",
              "\n",
              "[5 rows x 6 columns]"
            ]
          },
          "metadata": {
            "tags": []
          },
          "execution_count": 251
        }
      ]
    }
  ]
}