{
  "nbformat": 4,
  "nbformat_minor": 0,
  "metadata": {
    "colab": {
      "name": "Should I read this Hespress article.ipynb",
      "provenance": [],
      "collapsed_sections": [
        "wrDV3bwJNXlK",
        "ZWA_5EwVNhYY",
        "9UKuI-Q6No2J",
        "bSeJVzfMWhWI",
        "IzWmpZMU-0Zd",
        "MmuKfVAkBpqt",
        "ohZSDKx0DeVH",
        "Jm0sW15FDghU",
        "_CzANfRvDm6m",
        "Hf19S7FeEV5M"
      ],
      "machine_shape": "hm",
      "authorship_tag": "ABX9TyOES9YXIzbbUlVoGQ9xn7Bm",
      "include_colab_link": true
    },
    "kernelspec": {
      "name": "python3",
      "display_name": "Python 3"
    },
    "accelerator": "GPU"
  },
  "cells": [
    {
      "cell_type": "markdown",
      "metadata": {
        "id": "view-in-github",
        "colab_type": "text"
      },
      "source": [
        "<a href=\"https://colab.research.google.com/github/Rayryu/Should-I-read-this-hespress-article/blob/master/Should_I_read_this_Hespress_article.ipynb\" target=\"_parent\"><img src=\"https://colab.research.google.com/assets/colab-badge.svg\" alt=\"Open In Colab\"/></a>"
      ]
    },
    {
      "cell_type": "markdown",
      "metadata": {
        "id": "L4oUVhRBNZsB",
        "colab_type": "text"
      },
      "source": [
        "## Setting up environment and imports"
      ]
    },
    {
      "cell_type": "code",
      "metadata": {
        "id": "fvEieBafIz55",
        "colab_type": "code",
        "colab": {}
      },
      "source": [
        "!pip install selenium"
      ],
      "execution_count": 0,
      "outputs": []
    },
    {
      "cell_type": "code",
      "metadata": {
        "id": "qgLoy5NpHLnZ",
        "colab_type": "code",
        "colab": {}
      },
      "source": [
        "import sys\n",
        "from selenium import webdriver\n",
        "import pandas as pd\n",
        "import matplotlib.pyplot as plt\n",
        "import re\n",
        "from sklearn.model_selection import train_test_split\n",
        "import random\n",
        "from sklearn.pipeline import Pipeline\n",
        "from sklearn.feature_extraction.text import TfidfVectorizer\n",
        "from sklearn.linear_model import LogisticRegression\n",
        "from sklearn.model_selection import KFold, StratifiedKFold\n",
        "import numpy as np\n",
        "from sklearn.metrics import mean_squared_error as mse\n",
        "from sklearn.model_selection import GridSearchCV"
      ],
      "execution_count": 0,
      "outputs": []
    },
    {
      "cell_type": "code",
      "metadata": {
        "id": "l1KFqZMoD2bD",
        "colab_type": "code",
        "colab": {}
      },
      "source": [
        "# For reproducibility\n",
        "seed = random.seed()"
      ],
      "execution_count": 0,
      "outputs": []
    },
    {
      "cell_type": "markdown",
      "metadata": {
        "id": "Nid8E6dgF5nv",
        "colab_type": "text"
      },
      "source": [
        "# Scraping data from one article"
      ]
    },
    {
      "cell_type": "markdown",
      "metadata": {
        "id": "wrDV3bwJNXlK",
        "colab_type": "text"
      },
      "source": [
        "## Robot.txt"
      ]
    },
    {
      "cell_type": "markdown",
      "metadata": {
        "id": "tHWhtAy8F_Ch",
        "colab_type": "text"
      },
      "source": [
        "Hespress's robot.txt file allows crawling any url ending with .html with is perfect for this project since we are only extraction articles data. \n",
        "\n",
        "\n",
        "```\n",
        "User-agent: Alexabot\n",
        "Disallow:\n",
        "\n",
        "User-agent: *\n",
        "Disallow: /*?print$\n",
        "Disallow: /*/abuse.php\n",
        "Disallow: /abuse.php\n",
        "Disallow: /mobile/abuse.php\n",
        "Disallow: /*/mobile/abuse.php\n",
        "```\n",
        "\n"
      ]
    },
    {
      "cell_type": "markdown",
      "metadata": {
        "id": "ZWA_5EwVNhYY",
        "colab_type": "text"
      },
      "source": [
        "## Running a chromdriver"
      ]
    },
    {
      "cell_type": "markdown",
      "metadata": {
        "id": "A0qj-IzBLex8",
        "colab_type": "text"
      },
      "source": [
        "We're setting up a chromiumdriver in colab."
      ]
    },
    {
      "cell_type": "code",
      "metadata": {
        "id": "Y_wwl5RcJFox",
        "colab_type": "code",
        "colab": {}
      },
      "source": [
        "!apt-get update # to update ubuntu to correctly run apt install\n",
        "!apt install chromium-chromedriver\n",
        "!cp /usr/lib/chromium-browser/chromedriver /usr/bin\n",
        "\n",
        "sys.path.insert(0,'/usr/lib/chromium-browser/chromedriver')"
      ],
      "execution_count": 0,
      "outputs": []
    },
    {
      "cell_type": "markdown",
      "metadata": {
        "id": "4OIB2SFrLtO6",
        "colab_type": "text"
      },
      "source": [
        "Here Selenium opens the chrome driver wihtout opening a new window."
      ]
    },
    {
      "cell_type": "code",
      "metadata": {
        "id": "AtaZpdzzJYIh",
        "colab_type": "code",
        "colab": {}
      },
      "source": [
        "chrome_options = webdriver.ChromeOptions()\n",
        "chrome_options.add_argument('--headless')\n",
        "chrome_options.add_argument('--no-sandbox')\n",
        "chrome_options.add_argument('--disable-dev-shm-usage')\n",
        "driver = webdriver.Chrome(\"chromedriver\", options=chrome_options)"
      ],
      "execution_count": 0,
      "outputs": []
    },
    {
      "cell_type": "markdown",
      "metadata": {
        "id": "9UKuI-Q6No2J",
        "colab_type": "text"
      },
      "source": [
        "## Extracting data "
      ]
    },
    {
      "cell_type": "markdown",
      "metadata": {
        "id": "1jXy21vXMktI",
        "colab_type": "text"
      },
      "source": [
        "The get() method will make the driver navigate to the given URL, and **wait** until the page is fully loaded! (unlike request library)"
      ]
    },
    {
      "cell_type": "code",
      "metadata": {
        "id": "vJdUMPmGJr33",
        "colab_type": "code",
        "colab": {}
      },
      "source": [
        "URL = \"https://www.hespress.com/societe/469822.html\"\n",
        "\n",
        "driver.get(URL)"
      ],
      "execution_count": 0,
      "outputs": []
    },
    {
      "cell_type": "markdown",
      "metadata": {
        "id": "DQrxyG7hNJmJ",
        "colab_type": "text"
      },
      "source": [
        "The HTML page is fully loaded now, and we can access it's content using driver's methods."
      ]
    },
    {
      "cell_type": "markdown",
      "metadata": {
        "id": "RhSflFS3N6es",
        "colab_type": "text"
      },
      "source": [
        "Article's title"
      ]
    },
    {
      "cell_type": "code",
      "metadata": {
        "id": "t6LQpnDYJx-R",
        "colab_type": "code",
        "colab": {}
      },
      "source": [
        "title_element = driver.find_elements_by_xpath(\"//h1[@class='page_title']\")  \n",
        "title = title_element[0].text"
      ],
      "execution_count": 0,
      "outputs": []
    },
    {
      "cell_type": "code",
      "metadata": {
        "id": "i18XjPFfK_A_",
        "colab_type": "code",
        "outputId": "748c4765-159c-4844-f886-f427eaa60dac",
        "colab": {
          "base_uri": "https://localhost:8080/",
          "height": 34
        }
      },
      "source": [
        "print(title)"
      ],
      "execution_count": 0,
      "outputs": [
        {
          "output_type": "stream",
          "text": [
            "وزارة التربية تنفي \"قرار السبت\" وتطالب باستئناف الدراسة عن بُعد\n"
          ],
          "name": "stdout"
        }
      ]
    },
    {
      "cell_type": "markdown",
      "metadata": {
        "id": "aEqcBwF6ODLT",
        "colab_type": "text"
      },
      "source": [
        "Article's body"
      ]
    },
    {
      "cell_type": "code",
      "metadata": {
        "id": "HRk6hiLfItTM",
        "colab_type": "code",
        "colab": {}
      },
      "source": [
        "body_element = driver.find_element_by_xpath(\"//div[@id='article_body']\") \n",
        "body = body_element.text"
      ],
      "execution_count": 0,
      "outputs": []
    },
    {
      "cell_type": "code",
      "metadata": {
        "id": "ue5K8fHBQxEP",
        "colab_type": "code",
        "outputId": "93f32bdc-75e5-4e1a-88d3-f18b7b3d5316",
        "colab": {
          "base_uri": "https://localhost:8080/",
          "height": 168
        }
      },
      "source": [
        "print(body)"
      ],
      "execution_count": 0,
      "outputs": [
        {
          "output_type": "stream",
          "text": [
            "هسبريس - نورالدين إكجان\n",
            "السبت 02 ماي 2020 - 14:00\n",
            "منهكة من تتبع تناسل صفحات وأخبار زائفة، جددت وزارة التربية الوطنية نفيها لحسابات إلكترونية باسم سعيد أمزازي، تشهد تعاليق كثيفة من تلاميذ وطلبة، يتفاعل معها صاحب الحساب بشكل غير لائق أحيانا، ما حتم الخروج لنفي صلة الوزير بها.\n",
            "وعلى امتداد الأسبوع الجاري، تناقلت العديد من الصفحات إمكانية الإفراج عن خبر استثنائي اليوم السبت، يتعلق أساسا بمستقبل السنة الدراسية، وهو ما تنفيه الوزارة جملة وتفصيلا، مطالبة المتعلمين بالانكباب على التحصيل الدراسي.\n",
            "ومنذ بداية فترة \"الحجر الصحي\"، خرجت وزارة التربية الوطنية لنفي صحة أخبار تتعلق بقرار سنة بيضاء أو إنجاح جميع التلاميذ أو توقيف الدراسة إلى غاية إشعار آخر، وهو ما أربك عمل الوزارة على امتداد فترة اعتماد \"التعليم عن بعد\".\n",
            "وإلى جانب الحسابات والصفحات المزورة، اشتكت الوزارة من اختراق الموقع الرسمي لقطاع التعليم العالي، وهو ما دفعها إلى الاستعانة بالسلطات المختصة من أجل التحري بخصوص الموضوع، وجر المسؤولين عن ذلك إلى القضاء.\n",
            "وحسب مصادر مسؤولة من داخل وزارة التربية الوطنية، فلا وجود نهائيا لقرار سيتخذ اليوم السبت، مشيرة إلى أن مباشرة الدراسة عن بعد ستكون يوم الاثنين، ولا مجال لنشر الإشاعات من أجل خلخلة السير العادي للعملية.\n",
            "وأضافت المصادر نفسها، في حديث لجريدة هسبريس الإلكترونية، أن الصفحات التي تحمل اسم الوزير وكذا اختراق موقع قطاع التعليم العالي، مرفوضان، مرجحة أن يكون طلبة وتلاميذ وراء ذلك مع اقتراب نهاية العطلة واستئناف الدراسة.\n",
            "ونفت الوزارة في وقت سابق كذلك صحة الأخبار المتداولة حول إجراء الامتحانات بشكل استثنائي، وتوجيه أمزازي مراسلة داخلية إلى رؤساء الجامعات بخصوص وضع بروتكول خاص بإجراء الامتحانات في الملاعب الرياضية والخيام.\n"
          ],
          "name": "stdout"
        }
      ]
    },
    {
      "cell_type": "markdown",
      "metadata": {
        "id": "ihRa96yaTcJk",
        "colab_type": "text"
      },
      "source": [
        "we need to remove the first wo lines (author and date)"
      ]
    },
    {
      "cell_type": "code",
      "metadata": {
        "id": "2dpO8YudQ1Oy",
        "colab_type": "code",
        "outputId": "9500ef4f-3a3f-4a17-bc83-bb294e5f6bd2",
        "colab": {
          "base_uri": "https://localhost:8080/",
          "height": 212
        }
      },
      "source": [
        "body_splitted = body.split(\"\\n\")\n",
        "author = body_splitted[0].split(\"-\")[1]\n",
        "date = body_splitted[1]\n",
        "body = \"\".join(body.split(\"\\n\")[2:])"
      ],
      "execution_count": 0,
      "outputs": [
        {
          "output_type": "error",
          "ename": "IndexError",
          "evalue": "ignored",
          "traceback": [
            "\u001b[0;31m---------------------------------------------------------------------------\u001b[0m",
            "\u001b[0;31mIndexError\u001b[0m                                Traceback (most recent call last)",
            "\u001b[0;32m<ipython-input-231-627c72654010>\u001b[0m in \u001b[0;36m<module>\u001b[0;34m()\u001b[0m\n\u001b[1;32m      1\u001b[0m \u001b[0mbody_splitted\u001b[0m \u001b[0;34m=\u001b[0m \u001b[0mbody\u001b[0m\u001b[0;34m.\u001b[0m\u001b[0msplit\u001b[0m\u001b[0;34m(\u001b[0m\u001b[0;34m\"\\n\"\u001b[0m\u001b[0;34m)\u001b[0m\u001b[0;34m\u001b[0m\u001b[0;34m\u001b[0m\u001b[0m\n\u001b[0;32m----> 2\u001b[0;31m \u001b[0mauthor\u001b[0m \u001b[0;34m=\u001b[0m \u001b[0mbody_splitted\u001b[0m\u001b[0;34m[\u001b[0m\u001b[0;36m0\u001b[0m\u001b[0;34m]\u001b[0m\u001b[0;34m.\u001b[0m\u001b[0msplit\u001b[0m\u001b[0;34m(\u001b[0m\u001b[0;34m\"-\"\u001b[0m\u001b[0;34m)\u001b[0m\u001b[0;34m[\u001b[0m\u001b[0;36m1\u001b[0m\u001b[0;34m]\u001b[0m\u001b[0;34m\u001b[0m\u001b[0;34m\u001b[0m\u001b[0m\n\u001b[0m\u001b[1;32m      3\u001b[0m \u001b[0mdate\u001b[0m \u001b[0;34m=\u001b[0m \u001b[0mbody_splitted\u001b[0m\u001b[0;34m[\u001b[0m\u001b[0;36m1\u001b[0m\u001b[0;34m]\u001b[0m\u001b[0;34m\u001b[0m\u001b[0;34m\u001b[0m\u001b[0m\n\u001b[1;32m      4\u001b[0m \u001b[0mbody\u001b[0m \u001b[0;34m=\u001b[0m \u001b[0;34m\"\"\u001b[0m\u001b[0;34m.\u001b[0m\u001b[0mjoin\u001b[0m\u001b[0;34m(\u001b[0m\u001b[0mbody\u001b[0m\u001b[0;34m.\u001b[0m\u001b[0msplit\u001b[0m\u001b[0;34m(\u001b[0m\u001b[0;34m\"\\n\"\u001b[0m\u001b[0;34m)\u001b[0m\u001b[0;34m[\u001b[0m\u001b[0;36m2\u001b[0m\u001b[0;34m:\u001b[0m\u001b[0;34m]\u001b[0m\u001b[0;34m)\u001b[0m\u001b[0;34m\u001b[0m\u001b[0;34m\u001b[0m\u001b[0m\n",
            "\u001b[0;31mIndexError\u001b[0m: list index out of range"
          ]
        }
      ]
    },
    {
      "cell_type": "code",
      "metadata": {
        "id": "FdlPKwx4TmJ9",
        "colab_type": "code",
        "outputId": "a318e74f-4a62-495d-e99e-ffdfff6a695e",
        "colab": {
          "base_uri": "https://localhost:8080/",
          "height": 34
        }
      },
      "source": [
        "print(author)"
      ],
      "execution_count": 0,
      "outputs": [
        {
          "output_type": "stream",
          "text": [
            " نورالدين إكجان\n"
          ],
          "name": "stdout"
        }
      ]
    },
    {
      "cell_type": "code",
      "metadata": {
        "id": "_q4z9a5mUJm4",
        "colab_type": "code",
        "outputId": "abcded19-3384-427f-bc8f-bb80612c348a",
        "colab": {
          "base_uri": "https://localhost:8080/",
          "height": 34
        }
      },
      "source": [
        "print(date)"
      ],
      "execution_count": 0,
      "outputs": [
        {
          "output_type": "stream",
          "text": [
            "السبت 02 ماي 2020 - 14:00\n"
          ],
          "name": "stdout"
        }
      ]
    },
    {
      "cell_type": "markdown",
      "metadata": {
        "id": "gbDIankCU-xB",
        "colab_type": "text"
      },
      "source": [
        "Comments and votes"
      ]
    },
    {
      "cell_type": "code",
      "metadata": {
        "id": "vYhyNO68UaWo",
        "colab_type": "code",
        "colab": {}
      },
      "source": [
        "comments_list_element = driver.find_elements_by_class_name(\"comment_text\") "
      ],
      "execution_count": 0,
      "outputs": []
    },
    {
      "cell_type": "code",
      "metadata": {
        "id": "TsWq_UhAVE3k",
        "colab_type": "code",
        "colab": {}
      },
      "source": [
        "comments = [comment.text for comment in comments_list_element]"
      ],
      "execution_count": 0,
      "outputs": []
    },
    {
      "cell_type": "code",
      "metadata": {
        "id": "suIH30ttWOlv",
        "colab_type": "code",
        "colab": {}
      },
      "source": [
        "votes_list_element = driver.find_elements_by_class_name(\"result\") "
      ],
      "execution_count": 0,
      "outputs": []
    },
    {
      "cell_type": "code",
      "metadata": {
        "id": "FC5qOn7IWQpe",
        "colab_type": "code",
        "colab": {}
      },
      "source": [
        "votes = [vote.text for vote in votes_list_element]"
      ],
      "execution_count": 0,
      "outputs": []
    },
    {
      "cell_type": "markdown",
      "metadata": {
        "id": "bSeJVzfMWhWI",
        "colab_type": "text"
      },
      "source": [
        "## Building a dataframe"
      ]
    },
    {
      "cell_type": "code",
      "metadata": {
        "id": "IzwzD69VWjcR",
        "colab_type": "code",
        "colab": {}
      },
      "source": [
        "data = pd.DataFrame(data={\"comment\":comments, \"vote\": votes})\n",
        "data[\"author\"] = author\n",
        "data[\"title\"] = title\n",
        "data[\"text\"] = body\n",
        "data[\"date\"] = date\n",
        "data = data[['author', 'title', 'text', 'comment', 'vote','date']]"
      ],
      "execution_count": 0,
      "outputs": []
    },
    {
      "cell_type": "code",
      "metadata": {
        "id": "G37U__PbW4L2",
        "colab_type": "code",
        "outputId": "c62e321f-a17a-4c99-de92-ff8dd185c64c",
        "colab": {
          "base_uri": "https://localhost:8080/",
          "height": 195
        }
      },
      "source": [
        "data.head()"
      ],
      "execution_count": 0,
      "outputs": [
        {
          "output_type": "execute_result",
          "data": {
            "text/html": [
              "<div>\n",
              "<style scoped>\n",
              "    .dataframe tbody tr th:only-of-type {\n",
              "        vertical-align: middle;\n",
              "    }\n",
              "\n",
              "    .dataframe tbody tr th {\n",
              "        vertical-align: top;\n",
              "    }\n",
              "\n",
              "    .dataframe thead th {\n",
              "        text-align: right;\n",
              "    }\n",
              "</style>\n",
              "<table border=\"1\" class=\"dataframe\">\n",
              "  <thead>\n",
              "    <tr style=\"text-align: right;\">\n",
              "      <th></th>\n",
              "      <th>author</th>\n",
              "      <th>title</th>\n",
              "      <th>text</th>\n",
              "      <th>comment</th>\n",
              "      <th>vote</th>\n",
              "      <th>date</th>\n",
              "    </tr>\n",
              "  </thead>\n",
              "  <tbody>\n",
              "    <tr>\n",
              "      <th>0</th>\n",
              "      <td>نورالدين إكجان</td>\n",
              "      <td>وزارة التربية تنفي \"قرار السبت\" وتطالب باستئنا...</td>\n",
              "      <td>منهكة من تتبع تناسل صفحات وأخبار زائفة، جددت و...</td>\n",
              "      <td>تاحنا ماشي شغلنا ماعمرهوم مايديرو شي حاجة كاتف...</td>\n",
              "      <td>504</td>\n",
              "      <td>السبت 02 ماي 2020 - 14:00</td>\n",
              "    </tr>\n",
              "    <tr>\n",
              "      <th>1</th>\n",
              "      <td>نورالدين إكجان</td>\n",
              "      <td>وزارة التربية تنفي \"قرار السبت\" وتطالب باستئنا...</td>\n",
              "      <td>منهكة من تتبع تناسل صفحات وأخبار زائفة، جددت و...</td>\n",
              "      <td>الله يرحم الوالدين اعطيونا شي خبر يقين باش نعر...</td>\n",
              "      <td>912</td>\n",
              "      <td>السبت 02 ماي 2020 - 14:00</td>\n",
              "    </tr>\n",
              "    <tr>\n",
              "      <th>2</th>\n",
              "      <td>نورالدين إكجان</td>\n",
              "      <td>وزارة التربية تنفي \"قرار السبت\" وتطالب باستئنا...</td>\n",
              "      <td>منهكة من تتبع تناسل صفحات وأخبار زائفة، جددت و...</td>\n",
              "      <td>كتلميذ مغربي لا يمكننا مواصلة هكذا دون معرفة م...</td>\n",
              "      <td>429</td>\n",
              "      <td>السبت 02 ماي 2020 - 14:00</td>\n",
              "    </tr>\n",
              "    <tr>\n",
              "      <th>3</th>\n",
              "      <td>نورالدين إكجان</td>\n",
              "      <td>وزارة التربية تنفي \"قرار السبت\" وتطالب باستئنا...</td>\n",
              "      <td>منهكة من تتبع تناسل صفحات وأخبار زائفة، جددت و...</td>\n",
              "      <td>الدراسة عن بعد لاحول ولا قوة الابالله. الناس م...</td>\n",
              "      <td>537</td>\n",
              "      <td>السبت 02 ماي 2020 - 14:00</td>\n",
              "    </tr>\n",
              "    <tr>\n",
              "      <th>4</th>\n",
              "      <td>نورالدين إكجان</td>\n",
              "      <td>وزارة التربية تنفي \"قرار السبت\" وتطالب باستئنا...</td>\n",
              "      <td>منهكة من تتبع تناسل صفحات وأخبار زائفة، جددت و...</td>\n",
              "      <td>صفحة الوزير لي فيها التعليقات راها موثقة ببطاق...</td>\n",
              "      <td>185</td>\n",
              "      <td>السبت 02 ماي 2020 - 14:00</td>\n",
              "    </tr>\n",
              "  </tbody>\n",
              "</table>\n",
              "</div>"
            ],
            "text/plain": [
              "            author  ...                       date\n",
              "0   نورالدين إكجان  ...  السبت 02 ماي 2020 - 14:00\n",
              "1   نورالدين إكجان  ...  السبت 02 ماي 2020 - 14:00\n",
              "2   نورالدين إكجان  ...  السبت 02 ماي 2020 - 14:00\n",
              "3   نورالدين إكجان  ...  السبت 02 ماي 2020 - 14:00\n",
              "4   نورالدين إكجان  ...  السبت 02 ماي 2020 - 14:00\n",
              "\n",
              "[5 rows x 6 columns]"
            ]
          },
          "metadata": {
            "tags": []
          },
          "execution_count": 125
        }
      ]
    },
    {
      "cell_type": "markdown",
      "metadata": {
        "id": "hoi2PdMbYH-7",
        "colab_type": "text"
      },
      "source": [
        "We can extract more features from the HTML page (like comment's date, article image...) but we will restrict ourselves to the 6 attributes that we have chosen."
      ]
    },
    {
      "cell_type": "markdown",
      "metadata": {
        "id": "2Z8D8fL6Yjqx",
        "colab_type": "text"
      },
      "source": [
        "## Wrapping up everything\n"
      ]
    },
    {
      "cell_type": "markdown",
      "metadata": {
        "id": "-cvpHpBWY9oB",
        "colab_type": "text"
      },
      "source": [
        "We want to write a function that takes in parameters an article's URL and returns a Pandas DataFrame with its content."
      ]
    },
    {
      "cell_type": "code",
      "metadata": {
        "id": "FRUVlzn9Y8Rh",
        "colab_type": "code",
        "colab": {}
      },
      "source": [
        "import sys\n",
        "from selenium import webdriver\n",
        "import pandas as pd\n",
        "import time\n",
        "\n",
        "def extract_data(url: str) -> pd.DataFrame:\n",
        "    \"\"\"Navigate to the giving URL and extract data from it's content.\n",
        "\n",
        "    Parameters:\n",
        "    url (string): article's url.\n",
        "\n",
        "    Returns:\n",
        "    pd.DataFrame: a Panda's DataFrame containing article's data.\n",
        "\n",
        "    \"\"\"\n",
        "    # Setting up environnement and creating a driver object\n",
        "    sys.path.insert(0,'/usr/lib/chromium-browser/chromedriver')\n",
        "    chrome_options = webdriver.ChromeOptions()\n",
        "    chrome_options.add_argument('--headless')\n",
        "    chrome_options.add_argument('--no-sandbox')\n",
        "    chrome_options.add_argument('--disable-dev-shm-usage')\n",
        "    driver = webdriver.Chrome(\"chromedriver\", options=chrome_options)\n",
        "    time.sleep(1)\n",
        "\n",
        "    # Navigate to the given URL, and wait until the page is fully loaded!\n",
        "    driver.get(url)\n",
        "    time.sleep(5)\n",
        "\n",
        "    # Extracting fields\n",
        "    title_element = driver.find_elements_by_xpath(\"//h1[@class='page_title']\")  \n",
        "    title = title_element[0].text\n",
        "\n",
        "    time.sleep(2)\n",
        "    body_element = driver.find_elements_by_id(\"article_body\") \n",
        "    body = body_element[0].text if len(body_element)>0 else \"\"\n",
        "    body_splitted = body.split(\"\\n\") \n",
        "    author = body_splitted[0].split(\"-\")[1] if \"-\" in body_splitted[0] else body_splitted[0]\n",
        "    date = body_splitted[1]\n",
        "    body = \"\".join(body.split(\"\\n\")[2:])\n",
        "\n",
        "    \n",
        "    comments_list_element = driver.find_elements_by_class_name(\"comment_text\") \n",
        "    comments = [comment.text for comment in comments_list_element]\n",
        "    \n",
        "    votes_list_element = driver.find_elements_by_class_name(\"result\") \n",
        "    votes = [vote.text for vote in votes_list_element]\n",
        "\n",
        "    # Building a Pandas Dataframe \n",
        "    data = pd.DataFrame(data={\"comment\":comments, \"vote\": votes})\n",
        "    data[\"author\"] = author\n",
        "    data[\"title\"] = title\n",
        "    data[\"text\"] = body\n",
        "    data[\"date\"] = date\n",
        "    data = data[['author', 'title', 'text', 'comment', 'vote','date']]\n",
        "\n",
        "    return data"
      ],
      "execution_count": 0,
      "outputs": []
    },
    {
      "cell_type": "code",
      "metadata": {
        "id": "fTZCur6bcKpZ",
        "colab_type": "code",
        "outputId": "b32f4637-8dba-4e29-98be-95ef5b1e4fb9",
        "colab": {
          "base_uri": "https://localhost:8080/",
          "height": 195
        }
      },
      "source": [
        "URL = \"https://www.hespress.com/societe/469866.html\"\n",
        "data = extract_data(URL)\n",
        "data.head()"
      ],
      "execution_count": 0,
      "outputs": [
        {
          "output_type": "execute_result",
          "data": {
            "text/html": [
              "<div>\n",
              "<style scoped>\n",
              "    .dataframe tbody tr th:only-of-type {\n",
              "        vertical-align: middle;\n",
              "    }\n",
              "\n",
              "    .dataframe tbody tr th {\n",
              "        vertical-align: top;\n",
              "    }\n",
              "\n",
              "    .dataframe thead th {\n",
              "        text-align: right;\n",
              "    }\n",
              "</style>\n",
              "<table border=\"1\" class=\"dataframe\">\n",
              "  <thead>\n",
              "    <tr style=\"text-align: right;\">\n",
              "      <th></th>\n",
              "      <th>author</th>\n",
              "      <th>title</th>\n",
              "      <th>text</th>\n",
              "      <th>comment</th>\n",
              "      <th>vote</th>\n",
              "      <th>date</th>\n",
              "    </tr>\n",
              "  </thead>\n",
              "  <tbody>\n",
              "    <tr>\n",
              "      <th>0</th>\n",
              "      <td>هسبريس من الرباط</td>\n",
              "      <td>جمعية توضح سياق صرف منح لموظفين بالسجن</td>\n",
              "      <td>ردا على ما جرى تداوله، مؤخرا، بخصوص \"صرف منحة ...</td>\n",
              "      <td>شكرا للجمعية على المبادرة على كل حال. اما مندو...</td>\n",
              "      <td>8</td>\n",
              "      <td>السبت 02 ماي 2020 - 19:35</td>\n",
              "    </tr>\n",
              "    <tr>\n",
              "      <th>1</th>\n",
              "      <td>هسبريس من الرباط</td>\n",
              "      <td>جمعية توضح سياق صرف منح لموظفين بالسجن</td>\n",
              "      <td>ردا على ما جرى تداوله، مؤخرا، بخصوص \"صرف منحة ...</td>\n",
              "      <td>أتعجب لما إدارة من المؤسسات المغربية او جمعية ...</td>\n",
              "      <td>3</td>\n",
              "      <td>السبت 02 ماي 2020 - 19:35</td>\n",
              "    </tr>\n",
              "    <tr>\n",
              "      <th>2</th>\n",
              "      <td>هسبريس من الرباط</td>\n",
              "      <td>جمعية توضح سياق صرف منح لموظفين بالسجن</td>\n",
              "      <td>ردا على ما جرى تداوله، مؤخرا، بخصوص \"صرف منحة ...</td>\n",
              "      <td>نتق في جمعية التكافل وننوه بكل ما تقوم به في س...</td>\n",
              "      <td>5</td>\n",
              "      <td>السبت 02 ماي 2020 - 19:35</td>\n",
              "    </tr>\n",
              "    <tr>\n",
              "      <th>3</th>\n",
              "      <td>هسبريس من الرباط</td>\n",
              "      <td>جمعية توضح سياق صرف منح لموظفين بالسجن</td>\n",
              "      <td>ردا على ما جرى تداوله، مؤخرا، بخصوص \"صرف منحة ...</td>\n",
              "      <td>اعلان فالمغرب ماكاين اش خدمة مضبوطة(اكاديمية)....</td>\n",
              "      <td>1</td>\n",
              "      <td>السبت 02 ماي 2020 - 19:35</td>\n",
              "    </tr>\n",
              "    <tr>\n",
              "      <th>4</th>\n",
              "      <td>هسبريس من الرباط</td>\n",
              "      <td>جمعية توضح سياق صرف منح لموظفين بالسجن</td>\n",
              "      <td>ردا على ما جرى تداوله، مؤخرا، بخصوص \"صرف منحة ...</td>\n",
              "      <td>الطابع شبه العسكري للقطاع والاعباء الجسيمة الم...</td>\n",
              "      <td>8</td>\n",
              "      <td>السبت 02 ماي 2020 - 19:35</td>\n",
              "    </tr>\n",
              "  </tbody>\n",
              "</table>\n",
              "</div>"
            ],
            "text/plain": [
              "             author  ...                       date\n",
              "0  هسبريس من الرباط  ...  السبت 02 ماي 2020 - 19:35\n",
              "1  هسبريس من الرباط  ...  السبت 02 ماي 2020 - 19:35\n",
              "2  هسبريس من الرباط  ...  السبت 02 ماي 2020 - 19:35\n",
              "3  هسبريس من الرباط  ...  السبت 02 ماي 2020 - 19:35\n",
              "4  هسبريس من الرباط  ...  السبت 02 ماي 2020 - 19:35\n",
              "\n",
              "[5 rows x 6 columns]"
            ]
          },
          "metadata": {
            "tags": []
          },
          "execution_count": 251
        }
      ]
    },
    {
      "cell_type": "markdown",
      "metadata": {
        "id": "je9dgfo8-H6g",
        "colab_type": "text"
      },
      "source": [
        "# Building a baseline model"
      ]
    },
    {
      "cell_type": "markdown",
      "metadata": {
        "id": "IzWmpZMU-0Zd",
        "colab_type": "text"
      },
      "source": [
        "## Reading dataset"
      ]
    },
    {
      "cell_type": "code",
      "metadata": {
        "id": "9sCEA9w1-QRG",
        "colab_type": "code",
        "colab": {}
      },
      "source": [
        "data = pd.read_excel(\"ElecMorocco2016.xlsx\")\n",
        "data = data[[\"comment_message\", \"sentiment\"]]\n",
        "data.columns = [\"comment\", \"label\"]"
      ],
      "execution_count": 0,
      "outputs": []
    },
    {
      "cell_type": "code",
      "metadata": {
        "id": "NQUGgifDDqQU",
        "colab_type": "code",
        "colab": {
          "base_uri": "https://localhost:8080/",
          "height": 34
        },
        "outputId": "7126b2be-4a4c-41ab-fb23-8e8b7f40de48"
      },
      "source": [
        "data.shape"
      ],
      "execution_count": 289,
      "outputs": [
        {
          "output_type": "execute_result",
          "data": {
            "text/plain": [
              "(10254, 2)"
            ]
          },
          "metadata": {
            "tags": []
          },
          "execution_count": 289
        }
      ]
    },
    {
      "cell_type": "code",
      "metadata": {
        "id": "J8jTU1nyA6HD",
        "colab_type": "code",
        "colab": {
          "base_uri": "https://localhost:8080/",
          "height": 639
        },
        "outputId": "1600f493-01c1-4ee0-b78e-8ccb5127c02b"
      },
      "source": [
        "data.head(20)"
      ],
      "execution_count": 263,
      "outputs": [
        {
          "output_type": "execute_result",
          "data": {
            "text/html": [
              "<div>\n",
              "<style scoped>\n",
              "    .dataframe tbody tr th:only-of-type {\n",
              "        vertical-align: middle;\n",
              "    }\n",
              "\n",
              "    .dataframe tbody tr th {\n",
              "        vertical-align: top;\n",
              "    }\n",
              "\n",
              "    .dataframe thead th {\n",
              "        text-align: right;\n",
              "    }\n",
              "</style>\n",
              "<table border=\"1\" class=\"dataframe\">\n",
              "  <thead>\n",
              "    <tr style=\"text-align: right;\">\n",
              "      <th></th>\n",
              "      <th>comment</th>\n",
              "      <th>label</th>\n",
              "    </tr>\n",
              "  </thead>\n",
              "  <tbody>\n",
              "    <tr>\n",
              "      <th>0</th>\n",
              "      <td>البكاء ليس سمت الرجال ..البكاء سلطة الضعفاء لك...</td>\n",
              "      <td>N</td>\n",
              "    </tr>\n",
              "    <tr>\n",
              "      <th>1</th>\n",
              "      <td>كلنا بنكيران\\nولاية ثانية ان شاء الله\\nموتوا ب...</td>\n",
              "      <td>P</td>\n",
              "    </tr>\n",
              "    <tr>\n",
              "      <th>2</th>\n",
              "      <td>الشركات في الدول المتقدمة تساهم في بناء أوطانه...</td>\n",
              "      <td>N</td>\n",
              "    </tr>\n",
              "    <tr>\n",
              "      <th>3</th>\n",
              "      <td>من ينتقد بن كران هم خصوم معارضة لى خاصها هي سل...</td>\n",
              "      <td>N</td>\n",
              "    </tr>\n",
              "    <tr>\n",
              "      <th>4</th>\n",
              "      <td>هدو صحاب بام توجدو راسهوم بغين اعفاءات ضريبية ...</td>\n",
              "      <td>N</td>\n",
              "    </tr>\n",
              "    <tr>\n",
              "      <th>5</th>\n",
              "      <td>في نظرك الحكومات السابقة كانت احسن اتقوا الله ...</td>\n",
              "      <td>P</td>\n",
              "    </tr>\n",
              "    <tr>\n",
              "      <th>6</th>\n",
              "      <td>رئيس الحكومة يمر بتجربة صعبة للغاية فرغم كل ال...</td>\n",
              "      <td>P</td>\n",
              "    </tr>\n",
              "    <tr>\n",
              "      <th>7</th>\n",
              "      <td>Zakaria Sam هل مستوى االعيش في بلادنا مثل فرنس...</td>\n",
              "      <td>N</td>\n",
              "    </tr>\n",
              "    <tr>\n",
              "      <th>8</th>\n",
              "      <td>احسن حكومة في المغرب ساصوت على العدالة والتنمي...</td>\n",
              "      <td>P</td>\n",
              "    </tr>\n",
              "    <tr>\n",
              "      <th>9</th>\n",
              "      <td>المنافقين هما البام لي مزال معرفتهم أش كيسواو ...</td>\n",
              "      <td>N</td>\n",
              "    </tr>\n",
              "    <tr>\n",
              "      <th>10</th>\n",
              "      <td>أنا أقول العكس البيجيدي اولا والبام ثانيا والف...</td>\n",
              "      <td>P</td>\n",
              "    </tr>\n",
              "    <tr>\n",
              "      <th>11</th>\n",
              "      <td>ما يبكي بن كيران ليس نفعه في الحكومة وانما يبك...</td>\n",
              "      <td>P</td>\n",
              "    </tr>\n",
              "    <tr>\n",
              "      <th>12</th>\n",
              "      <td>الا بغيتي تجلس مع صاحبتك في القهوة وتلبس رايبن...</td>\n",
              "      <td>P</td>\n",
              "    </tr>\n",
              "    <tr>\n",
              "      <th>13</th>\n",
              "      <td>البيجيدي اولا متبوعا بالتقدم والاشتراكية ثم اا...</td>\n",
              "      <td>P</td>\n",
              "    </tr>\n",
              "    <tr>\n",
              "      <th>14</th>\n",
              "      <td>للعدالة والتنمية و الاغلبية ساحقة باذن الله ال...</td>\n",
              "      <td>P</td>\n",
              "    </tr>\n",
              "    <tr>\n",
              "      <th>15</th>\n",
              "      <td>كيفما كان الحال بنكيران احسن رئيس الوزراء. او ...</td>\n",
              "      <td>P</td>\n",
              "    </tr>\n",
              "    <tr>\n",
              "      <th>16</th>\n",
              "      <td>أتحدى أي حزب ان يفعل كما فعل بن كران كلهم يبحث...</td>\n",
              "      <td>P</td>\n",
              "    </tr>\n",
              "    <tr>\n",
              "      <th>17</th>\n",
              "      <td>البيجيدي أولا والبام ثالثا...الخواض من دابا .....</td>\n",
              "      <td>P</td>\n",
              "    </tr>\n",
              "    <tr>\n",
              "      <th>18</th>\n",
              "      <td>انت افتخر بابوك لي طالق واد ديال الفلوس من وزا...</td>\n",
              "      <td>N</td>\n",
              "    </tr>\n",
              "    <tr>\n",
              "      <th>19</th>\n",
              "      <td>إن كان أحدهم يأمر بنكيران فلا جدوى من الانتخاب...</td>\n",
              "      <td>N</td>\n",
              "    </tr>\n",
              "  </tbody>\n",
              "</table>\n",
              "</div>"
            ],
            "text/plain": [
              "                                              comment label\n",
              "0   البكاء ليس سمت الرجال ..البكاء سلطة الضعفاء لك...     N\n",
              "1   كلنا بنكيران\\nولاية ثانية ان شاء الله\\nموتوا ب...     P\n",
              "2   الشركات في الدول المتقدمة تساهم في بناء أوطانه...     N\n",
              "3   من ينتقد بن كران هم خصوم معارضة لى خاصها هي سل...     N\n",
              "4   هدو صحاب بام توجدو راسهوم بغين اعفاءات ضريبية ...     N\n",
              "5   في نظرك الحكومات السابقة كانت احسن اتقوا الله ...     P\n",
              "6   رئيس الحكومة يمر بتجربة صعبة للغاية فرغم كل ال...     P\n",
              "7   Zakaria Sam هل مستوى االعيش في بلادنا مثل فرنس...     N\n",
              "8   احسن حكومة في المغرب ساصوت على العدالة والتنمي...     P\n",
              "9   المنافقين هما البام لي مزال معرفتهم أش كيسواو ...     N\n",
              "10  أنا أقول العكس البيجيدي اولا والبام ثانيا والف...     P\n",
              "11  ما يبكي بن كيران ليس نفعه في الحكومة وانما يبك...     P\n",
              "12  الا بغيتي تجلس مع صاحبتك في القهوة وتلبس رايبن...     P\n",
              "13  البيجيدي اولا متبوعا بالتقدم والاشتراكية ثم اا...     P\n",
              "14  للعدالة والتنمية و الاغلبية ساحقة باذن الله ال...     P\n",
              "15  كيفما كان الحال بنكيران احسن رئيس الوزراء. او ...     P\n",
              "16  أتحدى أي حزب ان يفعل كما فعل بن كران كلهم يبحث...     P\n",
              "17  البيجيدي أولا والبام ثالثا...الخواض من دابا .....     P\n",
              "18  انت افتخر بابوك لي طالق واد ديال الفلوس من وزا...     N\n",
              "19  إن كان أحدهم يأمر بنكيران فلا جدوى من الانتخاب...     N"
            ]
          },
          "metadata": {
            "tags": []
          },
          "execution_count": 263
        }
      ]
    },
    {
      "cell_type": "code",
      "metadata": {
        "id": "OcbXZV-DA9Op",
        "colab_type": "code",
        "colab": {
          "base_uri": "https://localhost:8080/",
          "height": 67
        },
        "outputId": "8a42cd38-5c41-40c6-cdc1-2fa7949a8c9d"
      },
      "source": [
        "data.isna().sum()"
      ],
      "execution_count": 260,
      "outputs": [
        {
          "output_type": "execute_result",
          "data": {
            "text/plain": [
              "comment    0\n",
              "label      0\n",
              "dtype: int64"
            ]
          },
          "metadata": {
            "tags": []
          },
          "execution_count": 260
        }
      ]
    },
    {
      "cell_type": "code",
      "metadata": {
        "id": "ym_HLfgXBPfN",
        "colab_type": "code",
        "colab": {
          "base_uri": "https://localhost:8080/",
          "height": 265
        },
        "outputId": "3fffab30-30c8-445f-918f-edb31fd9b247"
      },
      "source": [
        "_ = plt.hist(data.label)"
      ],
      "execution_count": 261,
      "outputs": [
        {
          "output_type": "display_data",
          "data": {
            "image/png": "[encoded data removed]",
            "text/plain": [
              "<Figure size 432x288 with 1 Axes>"
            ]
          },
          "metadata": {
            "tags": [],
            "needs_background": "light"
          }
        }
      ]
    },
    {
      "cell_type": "markdown",
      "metadata": {
        "id": "MmuKfVAkBpqt",
        "colab_type": "text"
      },
      "source": [
        "## Data preprocessing"
      ]
    },
    {
      "cell_type": "markdown",
      "metadata": {
        "id": "ohZSDKx0DeVH",
        "colab_type": "text"
      },
      "source": [
        "### Cleaning data"
      ]
    },
    {
      "cell_type": "code",
      "metadata": {
        "id": "bJHZWrRMBeXx",
        "colab_type": "code",
        "colab": {}
      },
      "source": [
        "def clean_text(text):\n",
        "    # Replace latin words with spaces\n",
        "    text = re.sub(r'[A-z]+', \" \", text)\n",
        "    \n",
        "    # Replace punctuation characters with spaces\n",
        "    filters='!\"#$%&()*+,-./:;<=>?؟@[\\\\]^_`{|}~\\t\\n'\n",
        "    translate_dict = dict((c, \" \") for c in filters)\n",
        "    translate_map = str.maketrans(translate_dict)\n",
        "    text = text.translate(translate_map)\n",
        "\n",
        "    # Remove double spaces\n",
        "    text = re.sub(r\"  \", \" \", text)\n",
        "\n",
        "    return text"
      ],
      "execution_count": 0,
      "outputs": []
    },
    {
      "cell_type": "code",
      "metadata": {
        "id": "fk-KcqiGCNgq",
        "colab_type": "code",
        "colab": {}
      },
      "source": [
        "data.comment = data.comment.map(lambda x: clean_text(x))"
      ],
      "execution_count": 0,
      "outputs": []
    },
    {
      "cell_type": "markdown",
      "metadata": {
        "id": "Jm0sW15FDghU",
        "colab_type": "text"
      },
      "source": [
        "### Formating labels"
      ]
    },
    {
      "cell_type": "code",
      "metadata": {
        "id": "ogUJDiYMDCQC",
        "colab_type": "code",
        "colab": {}
      },
      "source": [
        "data.label = data.label.map(lambda x:0 if x==\"N\" else 1)"
      ],
      "execution_count": 0,
      "outputs": []
    },
    {
      "cell_type": "code",
      "metadata": {
        "id": "Iu8p4aK9DS-8",
        "colab_type": "code",
        "colab": {
          "base_uri": "https://localhost:8080/",
          "height": 787
        },
        "outputId": "bbe769a1-0847-4e75-fd95-4120a801d4cb"
      },
      "source": [
        "data.head(25)"
      ],
      "execution_count": 288,
      "outputs": [
        {
          "output_type": "execute_result",
          "data": {
            "text/html": [
              "<div>\n",
              "<style scoped>\n",
              "    .dataframe tbody tr th:only-of-type {\n",
              "        vertical-align: middle;\n",
              "    }\n",
              "\n",
              "    .dataframe tbody tr th {\n",
              "        vertical-align: top;\n",
              "    }\n",
              "\n",
              "    .dataframe thead th {\n",
              "        text-align: right;\n",
              "    }\n",
              "</style>\n",
              "<table border=\"1\" class=\"dataframe\">\n",
              "  <thead>\n",
              "    <tr style=\"text-align: right;\">\n",
              "      <th></th>\n",
              "      <th>comment</th>\n",
              "      <th>label</th>\n",
              "    </tr>\n",
              "  </thead>\n",
              "  <tbody>\n",
              "    <tr>\n",
              "      <th>0</th>\n",
              "      <td>البكاء ليس سمت الرجال  البكاء سلطة الضعفاء لكس...</td>\n",
              "      <td>0</td>\n",
              "    </tr>\n",
              "    <tr>\n",
              "      <th>1</th>\n",
              "      <td>كلنا بنكيران ولاية ثانية ان شاء الله موتوا بحقدكم</td>\n",
              "      <td>1</td>\n",
              "    </tr>\n",
              "    <tr>\n",
              "      <th>2</th>\n",
              "      <td>الشركات في الدول المتقدمة تساهم في بناء أوطانه...</td>\n",
              "      <td>0</td>\n",
              "    </tr>\n",
              "    <tr>\n",
              "      <th>3</th>\n",
              "      <td>من ينتقد بن كران هم خصوم معارضة لى خاصها هي سل...</td>\n",
              "      <td>0</td>\n",
              "    </tr>\n",
              "    <tr>\n",
              "      <th>4</th>\n",
              "      <td>هدو صحاب بام توجدو راسهوم بغين اعفاءات ضريبية ...</td>\n",
              "      <td>0</td>\n",
              "    </tr>\n",
              "    <tr>\n",
              "      <th>5</th>\n",
              "      <td>في نظرك الحكومات السابقة كانت احسن اتقوا الله ...</td>\n",
              "      <td>1</td>\n",
              "    </tr>\n",
              "    <tr>\n",
              "      <th>6</th>\n",
              "      <td>رئيس الحكومة يمر بتجربة صعبة للغاية فرغم كل ال...</td>\n",
              "      <td>1</td>\n",
              "    </tr>\n",
              "    <tr>\n",
              "      <th>7</th>\n",
              "      <td>هل مستوى االعيش في بلادنا مثل فرنسا يونان اس...</td>\n",
              "      <td>0</td>\n",
              "    </tr>\n",
              "    <tr>\n",
              "      <th>8</th>\n",
              "      <td>احسن حكومة في المغرب ساصوت على العدالة والتنمي...</td>\n",
              "      <td>1</td>\n",
              "    </tr>\n",
              "    <tr>\n",
              "      <th>9</th>\n",
              "      <td>المنافقين هما البام لي مزال معرفتهم أش كيسواو ...</td>\n",
              "      <td>0</td>\n",
              "    </tr>\n",
              "    <tr>\n",
              "      <th>10</th>\n",
              "      <td>أنا أقول العكس البيجيدي اولا والبام ثانيا والف...</td>\n",
              "      <td>1</td>\n",
              "    </tr>\n",
              "    <tr>\n",
              "      <th>11</th>\n",
              "      <td>ما يبكي بن كيران ليس نفعه في الحكومة وانما يبك...</td>\n",
              "      <td>1</td>\n",
              "    </tr>\n",
              "    <tr>\n",
              "      <th>12</th>\n",
              "      <td>الا بغيتي تجلس مع صاحبتك في القهوة وتلبس رايبن...</td>\n",
              "      <td>1</td>\n",
              "    </tr>\n",
              "    <tr>\n",
              "      <th>13</th>\n",
              "      <td>البيجيدي اولا متبوعا بالتقدم والاشتراكية ثم اا...</td>\n",
              "      <td>1</td>\n",
              "    </tr>\n",
              "    <tr>\n",
              "      <th>14</th>\n",
              "      <td>للعدالة والتنمية و الاغلبية ساحقة باذن الله ال...</td>\n",
              "      <td>1</td>\n",
              "    </tr>\n",
              "    <tr>\n",
              "      <th>15</th>\n",
              "      <td>كيفما كان الحال بنكيران احسن رئيس الوزراء او ذ...</td>\n",
              "      <td>1</td>\n",
              "    </tr>\n",
              "    <tr>\n",
              "      <th>16</th>\n",
              "      <td>أتحدى أي حزب ان يفعل كما فعل بن كران كلهم يبحث...</td>\n",
              "      <td>1</td>\n",
              "    </tr>\n",
              "    <tr>\n",
              "      <th>17</th>\n",
              "      <td>البيجيدي أولا والبام ثالثا  الخواض من دابا  ال...</td>\n",
              "      <td>1</td>\n",
              "    </tr>\n",
              "    <tr>\n",
              "      <th>18</th>\n",
              "      <td>انت افتخر بابوك لي طالق واد ديال الفلوس من وزا...</td>\n",
              "      <td>0</td>\n",
              "    </tr>\n",
              "    <tr>\n",
              "      <th>19</th>\n",
              "      <td>إن كان أحدهم يأمر بنكيران فلا جدوى من الانتخاب...</td>\n",
              "      <td>0</td>\n",
              "    </tr>\n",
              "    <tr>\n",
              "      <th>20</th>\n",
              "      <td>من حق الباميين ان يحلموا فلا حق لنا ان نمنعهم ...</td>\n",
              "      <td>0</td>\n",
              "    </tr>\n",
              "    <tr>\n",
              "      <th>21</th>\n",
              "      <td>بغيت نعرف غير بنكيران 5 سنين هادي شنو دار زاد ...</td>\n",
              "      <td>1</td>\n",
              "    </tr>\n",
              "    <tr>\n",
              "      <th>22</th>\n",
              "      <td>نصوت لمن يتنازل عن راتبه و تقاعده و كل الإمتيا...</td>\n",
              "      <td>1</td>\n",
              "    </tr>\n",
              "    <tr>\n",
              "      <th>23</th>\n",
              "      <td>كونوا حياديين  لهاذه الحكومة محاسن رغم كل شيء</td>\n",
              "      <td>1</td>\n",
              "    </tr>\n",
              "    <tr>\n",
              "      <th>24</th>\n",
              "      <td>شكرا لبنكيران لانه اقتطع من راتبي ولاية ثانية ...</td>\n",
              "      <td>0</td>\n",
              "    </tr>\n",
              "  </tbody>\n",
              "</table>\n",
              "</div>"
            ],
            "text/plain": [
              "                                              comment  label\n",
              "0   البكاء ليس سمت الرجال  البكاء سلطة الضعفاء لكس...      0\n",
              "1   كلنا بنكيران ولاية ثانية ان شاء الله موتوا بحقدكم      1\n",
              "2   الشركات في الدول المتقدمة تساهم في بناء أوطانه...      0\n",
              "3   من ينتقد بن كران هم خصوم معارضة لى خاصها هي سل...      0\n",
              "4   هدو صحاب بام توجدو راسهوم بغين اعفاءات ضريبية ...      0\n",
              "5   في نظرك الحكومات السابقة كانت احسن اتقوا الله ...      1\n",
              "6   رئيس الحكومة يمر بتجربة صعبة للغاية فرغم كل ال...      1\n",
              "7     هل مستوى االعيش في بلادنا مثل فرنسا يونان اس...      0\n",
              "8   احسن حكومة في المغرب ساصوت على العدالة والتنمي...      1\n",
              "9   المنافقين هما البام لي مزال معرفتهم أش كيسواو ...      0\n",
              "10  أنا أقول العكس البيجيدي اولا والبام ثانيا والف...      1\n",
              "11  ما يبكي بن كيران ليس نفعه في الحكومة وانما يبك...      1\n",
              "12  الا بغيتي تجلس مع صاحبتك في القهوة وتلبس رايبن...      1\n",
              "13  البيجيدي اولا متبوعا بالتقدم والاشتراكية ثم اا...      1\n",
              "14  للعدالة والتنمية و الاغلبية ساحقة باذن الله ال...      1\n",
              "15  كيفما كان الحال بنكيران احسن رئيس الوزراء او ذ...      1\n",
              "16  أتحدى أي حزب ان يفعل كما فعل بن كران كلهم يبحث...      1\n",
              "17  البيجيدي أولا والبام ثالثا  الخواض من دابا  ال...      1\n",
              "18  انت افتخر بابوك لي طالق واد ديال الفلوس من وزا...      0\n",
              "19  إن كان أحدهم يأمر بنكيران فلا جدوى من الانتخاب...      0\n",
              "20  من حق الباميين ان يحلموا فلا حق لنا ان نمنعهم ...      0\n",
              "21  بغيت نعرف غير بنكيران 5 سنين هادي شنو دار زاد ...      1\n",
              "22  نصوت لمن يتنازل عن راتبه و تقاعده و كل الإمتيا...      1\n",
              "23     كونوا حياديين  لهاذه الحكومة محاسن رغم كل شيء       1\n",
              "24  شكرا لبنكيران لانه اقتطع من راتبي ولاية ثانية ...      0"
            ]
          },
          "metadata": {
            "tags": []
          },
          "execution_count": 288
        }
      ]
    },
    {
      "cell_type": "markdown",
      "metadata": {
        "id": "_CzANfRvDm6m",
        "colab_type": "text"
      },
      "source": [
        "## Training"
      ]
    },
    {
      "cell_type": "markdown",
      "metadata": {
        "id": "asVDD-gaDuJ_",
        "colab_type": "text"
      },
      "source": [
        "Spliting train data into training and validation sets."
      ]
    },
    {
      "cell_type": "code",
      "metadata": {
        "id": "nsHn68osDUZO",
        "colab_type": "code",
        "colab": {}
      },
      "source": [
        "X_train, X_valid, y_train, y_valid = train_test_split(\n",
        "    data.comment, data.label, stratify=data.label, random_state=seed, test_size=0.2, shuffle=True)"
      ],
      "execution_count": 0,
      "outputs": []
    },
    {
      "cell_type": "markdown",
      "metadata": {
        "id": "Hf19S7FeEV5M",
        "colab_type": "text"
      },
      "source": [
        "### TF-IDF -> Logistic Regression"
      ]
    },
    {
      "cell_type": "markdown",
      "metadata": {
        "id": "psVgCfw3FmzE",
        "colab_type": "text"
      },
      "source": [
        "First we need to create a TF-IDF vectoirzer object. We'll be using a custom stop-words that we've found in this [repository](https://github.com/mohataher/arabic-stop-words/blob/master/list.txt)."
      ]
    },
    {
      "cell_type": "code",
      "metadata": {
        "id": "pTTFtNdjGbgr",
        "colab_type": "code",
        "colab": {}
      },
      "source": [
        "arabic_stop_words = [word[:-1] for word in open(\"list.txt\", \"r\")]"
      ],
      "execution_count": 0,
      "outputs": []
    },
    {
      "cell_type": "code",
      "metadata": {
        "id": "s1AOeNEZFcxd",
        "colab_type": "code",
        "colab": {}
      },
      "source": [
        "tfv = TfidfVectorizer(min_df=3, analyzer='word',token_pattern=r'\\w{1,}',\n",
        "            ngram_range=(1, 3), use_idf=1, smooth_idf=1, sublinear_tf=1,\n",
        "            stop_words = arabic_stop_words)"
      ],
      "execution_count": 0,
      "outputs": []
    },
    {
      "cell_type": "code",
      "metadata": {
        "id": "HWfkD04REGFh",
        "colab_type": "code",
        "colab": {}
      },
      "source": [
        "# Fitting TF-IDF to both training and test sets (semi-supervised learning)\n",
        "tfv.fit(list(X_train) + list(X_valid))\n",
        "X_train_tfv =  tfv.transform(X_train) \n",
        "X_valid_tfv = tfv.transform(X_valid)"
      ],
      "execution_count": 0,
      "outputs": []
    },
    {
      "cell_type": "markdown",
      "metadata": {
        "id": "6nxaGMlHHUJX",
        "colab_type": "text"
      },
      "source": [
        "Then we'll be running a StratifiedKFold"
      ]
    },
    {
      "cell_type": "code",
      "metadata": {
        "id": "MfNUoBZvHQH_",
        "colab_type": "code",
        "colab": {
          "base_uri": "https://localhost:8080/",
          "height": 34
        },
        "outputId": "a15d1ba2-8b53-4c81-8d5e-b7edea0206aa"
      },
      "source": [
        "model = LogisticRegression(C=1, penalty='l2')\n",
        "model.fit(X_train_tfv, y_train)\n",
        "\n",
        "model.score(X_train_tfv, y_train)"
      ],
      "execution_count": 334,
      "outputs": [
        {
          "output_type": "execute_result",
          "data": {
            "text/plain": [
              "0.857734975009143"
            ]
          },
          "metadata": {
            "tags": []
          },
          "execution_count": 334
        }
      ]
    },
    {
      "cell_type": "code",
      "metadata": {
        "id": "Zw2ldiHgJ7Ul",
        "colab_type": "code",
        "colab": {
          "base_uri": "https://localhost:8080/",
          "height": 34
        },
        "outputId": "ee449742-e193-47d4-baf3-92d38ea94951"
      },
      "source": [
        "model.score(X_valid_tfv, y_valid)"
      ],
      "execution_count": 338,
      "outputs": [
        {
          "output_type": "execute_result",
          "data": {
            "text/plain": [
              "0.7937591418820088"
            ]
          },
          "metadata": {
            "tags": []
          },
          "execution_count": 338
        }
      ]
    },
    {
      "cell_type": "markdown",
      "metadata": {
        "id": "bOfVaBYpOJ9D",
        "colab_type": "text"
      },
      "source": [
        "## Predict"
      ]
    },
    {
      "cell_type": "markdown",
      "metadata": {
        "id": "KNOYwl4XKQug",
        "colab_type": "text"
      },
      "source": [
        "Let's predict!"
      ]
    },
    {
      "cell_type": "code",
      "metadata": {
        "id": "wyiUnFx8J_lM",
        "colab_type": "code",
        "colab": {
          "base_uri": "https://localhost:8080/",
          "height": 447
        },
        "outputId": "b2c37175-9d49-4c3e-a275-0f318a466c4a"
      },
      "source": [
        "URL = \"https://www.hespress.com/sciences-nature/467266.html\"\n",
        "data = extract_data(URL)\n",
        "data.head()"
      ],
      "execution_count": 373,
      "outputs": [
        {
          "output_type": "execute_result",
          "data": {
            "text/html": [
              "<div>\n",
              "<style scoped>\n",
              "    .dataframe tbody tr th:only-of-type {\n",
              "        vertical-align: middle;\n",
              "    }\n",
              "\n",
              "    .dataframe tbody tr th {\n",
              "        vertical-align: top;\n",
              "    }\n",
              "\n",
              "    .dataframe thead th {\n",
              "        text-align: right;\n",
              "    }\n",
              "</style>\n",
              "<table border=\"1\" class=\"dataframe\">\n",
              "  <thead>\n",
              "    <tr style=\"text-align: right;\">\n",
              "      <th></th>\n",
              "      <th>author</th>\n",
              "      <th>title</th>\n",
              "      <th>text</th>\n",
              "      <th>comment</th>\n",
              "      <th>vote</th>\n",
              "      <th>date</th>\n",
              "    </tr>\n",
              "  </thead>\n",
              "  <tbody>\n",
              "    <tr>\n",
              "      <th>0</th>\n",
              "      <td>هسبريس من الرباط</td>\n",
              "      <td>شركة مغربية تصمم نفق تعقيم من فيروس كورونا</td>\n",
              "      <td>كشفت مجموعة \"جيت كونتراكتورز\" المغربية عن ابتكار، يحمل اسم \"السلامة بوكس\"، عبارة عن نفق تعقيم مغربي الصنع.وذكرت المجموعة المغربية، المتخصصة في البناء، أن هذا النفق جرى تصميمه وإنتاجه من قبل فرق \"A...</td>\n",
              "      <td>هذا النفق المعقم يجب أن يوضع أمام المستشفيات و يكون إجباري أمام مداخل الاسواق الكبيرة لعله يكون سببا في حد من انتشار هذا الفيروس القاتل</td>\n",
              "      <td>95</td>\n",
              "      <td>الأحد 12 أبريل 2020 - 11:55</td>\n",
              "    </tr>\n",
              "    <tr>\n",
              "      <th>1</th>\n",
              "      <td>هسبريس من الرباط</td>\n",
              "      <td>شركة مغربية تصمم نفق تعقيم من فيروس كورونا</td>\n",
              "      <td>كشفت مجموعة \"جيت كونتراكتورز\" المغربية عن ابتكار، يحمل اسم \"السلامة بوكس\"، عبارة عن نفق تعقيم مغربي الصنع.وذكرت المجموعة المغربية، المتخصصة في البناء، أن هذا النفق جرى تصميمه وإنتاجه من قبل فرق \"A...</td>\n",
              "      <td>نسمع عن إبتكارات و لا نسمع عن براءات إختراع ! الأولى أن ندلي ببراءات إختراع حتى نعلم أن المنتوج مغربي مائة بالمائة ، لأن براءات الإختراع المغربية كما عهدنا يكون مصيرها التجاهل حتى يضطر أصحابها لله...</td>\n",
              "      <td>57</td>\n",
              "      <td>الأحد 12 أبريل 2020 - 11:55</td>\n",
              "    </tr>\n",
              "    <tr>\n",
              "      <th>2</th>\n",
              "      <td>هسبريس من الرباط</td>\n",
              "      <td>شركة مغربية تصمم نفق تعقيم من فيروس كورونا</td>\n",
              "      <td>كشفت مجموعة \"جيت كونتراكتورز\" المغربية عن ابتكار، يحمل اسم \"السلامة بوكس\"، عبارة عن نفق تعقيم مغربي الصنع.وذكرت المجموعة المغربية، المتخصصة في البناء، أن هذا النفق جرى تصميمه وإنتاجه من قبل فرق \"A...</td>\n",
              "      <td>صباح الخير\\nبرافو ،\\nعمتم صباحا</td>\n",
              "      <td>22</td>\n",
              "      <td>الأحد 12 أبريل 2020 - 11:55</td>\n",
              "    </tr>\n",
              "    <tr>\n",
              "      <th>3</th>\n",
              "      <td>هسبريس من الرباط</td>\n",
              "      <td>شركة مغربية تصمم نفق تعقيم من فيروس كورونا</td>\n",
              "      <td>كشفت مجموعة \"جيت كونتراكتورز\" المغربية عن ابتكار، يحمل اسم \"السلامة بوكس\"، عبارة عن نفق تعقيم مغربي الصنع.وذكرت المجموعة المغربية، المتخصصة في البناء، أن هذا النفق جرى تصميمه وإنتاجه من قبل فرق \"A...</td>\n",
              "      <td>ماشاء الله تبارك الله عندنا طاقات وابداع البلاد خاصها ستوديو دوزيم في الاختراعات ولالة العروسة في اكتشافات علميه تسهل حياة الإنسان في بيته وموازين ديال الاختراعات في علوم الفلاحة والصيد البحري وبا...</td>\n",
              "      <td>36</td>\n",
              "      <td>الأحد 12 أبريل 2020 - 11:55</td>\n",
              "    </tr>\n",
              "    <tr>\n",
              "      <th>4</th>\n",
              "      <td>هسبريس من الرباط</td>\n",
              "      <td>شركة مغربية تصمم نفق تعقيم من فيروس كورونا</td>\n",
              "      <td>كشفت مجموعة \"جيت كونتراكتورز\" المغربية عن ابتكار، يحمل اسم \"السلامة بوكس\"، عبارة عن نفق تعقيم مغربي الصنع.وذكرت المجموعة المغربية، المتخصصة في البناء، أن هذا النفق جرى تصميمه وإنتاجه من قبل فرق \"A...</td>\n",
              "      <td>فكرة جيد يمك استخدامها عند مداخل المستشفيات و المدارس و الفضاءات العمومية</td>\n",
              "      <td>24</td>\n",
              "      <td>الأحد 12 أبريل 2020 - 11:55</td>\n",
              "    </tr>\n",
              "  </tbody>\n",
              "</table>\n",
              "</div>"
            ],
            "text/plain": [
              "             author  ...                         date\n",
              "0  هسبريس من الرباط  ...  الأحد 12 أبريل 2020 - 11:55\n",
              "1  هسبريس من الرباط  ...  الأحد 12 أبريل 2020 - 11:55\n",
              "2  هسبريس من الرباط  ...  الأحد 12 أبريل 2020 - 11:55\n",
              "3  هسبريس من الرباط  ...  الأحد 12 أبريل 2020 - 11:55\n",
              "4  هسبريس من الرباط  ...  الأحد 12 أبريل 2020 - 11:55\n",
              "\n",
              "[5 rows x 6 columns]"
            ]
          },
          "metadata": {
            "tags": []
          },
          "execution_count": 373
        }
      ]
    },
    {
      "cell_type": "code",
      "metadata": {
        "id": "GlNtSekoKXIM",
        "colab_type": "code",
        "colab": {}
      },
      "source": [
        "comments = data.comment\n",
        "cleaned_comments = comments.map(lambda x: clean_text(x))\n",
        "comments_tfv = tfv.transform(cleaned_comments)"
      ],
      "execution_count": 0,
      "outputs": []
    },
    {
      "cell_type": "code",
      "metadata": {
        "id": "z9z32rURKl-h",
        "colab_type": "code",
        "colab": {}
      },
      "source": [
        "predictions = model.predict(comments_tfv)"
      ],
      "execution_count": 0,
      "outputs": []
    },
    {
      "cell_type": "code",
      "metadata": {
        "id": "v6YGLXDMKp61",
        "colab_type": "code",
        "colab": {}
      },
      "source": [
        "predictions_df = pd.DataFrame({\"comment\":comments, \"label\":predictions})"
      ],
      "execution_count": 0,
      "outputs": []
    },
    {
      "cell_type": "code",
      "metadata": {
        "id": "-pQG4CnsK28I",
        "colab_type": "code",
        "colab": {
          "base_uri": "https://localhost:8080/",
          "height": 580
        },
        "outputId": "dd548e51-e78c-4051-b442-ac5bbc928b8c"
      },
      "source": [
        "pd.options.display.max_colwidth = 200\n",
        "predictions_df.head(25)"
      ],
      "execution_count": 377,
      "outputs": [
        {
          "output_type": "execute_result",
          "data": {
            "text/html": [
              "<div>\n",
              "<style scoped>\n",
              "    .dataframe tbody tr th:only-of-type {\n",
              "        vertical-align: middle;\n",
              "    }\n",
              "\n",
              "    .dataframe tbody tr th {\n",
              "        vertical-align: top;\n",
              "    }\n",
              "\n",
              "    .dataframe thead th {\n",
              "        text-align: right;\n",
              "    }\n",
              "</style>\n",
              "<table border=\"1\" class=\"dataframe\">\n",
              "  <thead>\n",
              "    <tr style=\"text-align: right;\">\n",
              "      <th></th>\n",
              "      <th>comment</th>\n",
              "      <th>label</th>\n",
              "    </tr>\n",
              "  </thead>\n",
              "  <tbody>\n",
              "    <tr>\n",
              "      <th>0</th>\n",
              "      <td>هذا النفق المعقم يجب أن يوضع أمام المستشفيات و يكون إجباري أمام مداخل الاسواق الكبيرة لعله يكون سببا في حد من انتشار هذا الفيروس القاتل</td>\n",
              "      <td>0</td>\n",
              "    </tr>\n",
              "    <tr>\n",
              "      <th>1</th>\n",
              "      <td>نسمع عن إبتكارات و لا نسمع عن براءات إختراع ! الأولى أن ندلي ببراءات إختراع حتى نعلم أن المنتوج مغربي مائة بالمائة ، لأن براءات الإختراع المغربية كما عهدنا يكون مصيرها التجاهل حتى يضطر أصحابها لله...</td>\n",
              "      <td>0</td>\n",
              "    </tr>\n",
              "    <tr>\n",
              "      <th>2</th>\n",
              "      <td>صباح الخير\\nبرافو ،\\nعمتم صباحا</td>\n",
              "      <td>1</td>\n",
              "    </tr>\n",
              "    <tr>\n",
              "      <th>3</th>\n",
              "      <td>ماشاء الله تبارك الله عندنا طاقات وابداع البلاد خاصها ستوديو دوزيم في الاختراعات ولالة العروسة في اكتشافات علميه تسهل حياة الإنسان في بيته وموازين ديال الاختراعات في علوم الفلاحة والصيد البحري وبا...</td>\n",
              "      <td>0</td>\n",
              "    </tr>\n",
              "    <tr>\n",
              "      <th>4</th>\n",
              "      <td>فكرة جيد يمك استخدامها عند مداخل المستشفيات و المدارس و الفضاءات العمومية</td>\n",
              "      <td>0</td>\n",
              "    </tr>\n",
              "    <tr>\n",
              "      <th>5</th>\n",
              "      <td>بادرة طيبة المرجو تعميمه امام البنوك والاسواق الكبر ى</td>\n",
              "      <td>0</td>\n",
              "    </tr>\n",
              "    <tr>\n",
              "      <th>6</th>\n",
              "      <td>كل الاحترام لجيت كونتراكتورز وتحية الاحترام لكل العمال والاداريييين</td>\n",
              "      <td>1</td>\n",
              "    </tr>\n",
              "    <tr>\n",
              "      <th>7</th>\n",
              "      <td>هذه الممرات اوالانفاق ضرورية في مداخل المستشفيات. والمتاجر الكبرى. وفي الأماكن التي تكتر فيها الحركة. وجب الابتكار في كل ما يقي من العدوى. ولكن هناك فئة من المواطنين غير واعية بخطورة هذا الوباء ال...</td>\n",
              "      <td>0</td>\n",
              "    </tr>\n",
              "    <tr>\n",
              "      <th>8</th>\n",
              "      <td>مجهود يستحق الإشادة والتثمين، لكن يبقى التساؤل هل هذا النفق مجرد نموذج يبرز ويستعرض قدرة الصانع والمبتكر المغربي أم أنه سيتم تصنيعه على نطاق واسع وتعميم استخدامه في كافة ربوع بلادنا معركة محاربة و...</td>\n",
              "      <td>0</td>\n",
              "    </tr>\n",
              "    <tr>\n",
              "      <th>9</th>\n",
              "      <td>و هل هذا النفق ليس له اثار جانبية على صحة المار منه</td>\n",
              "      <td>0</td>\n",
              "    </tr>\n",
              "    <tr>\n",
              "      <th>10</th>\n",
              "      <td>أشعر بافتخار عندما أسمع وأرى مثل هذه الأخبار السارة. أيها المسؤولون إفتحوا أبواب الإبداع للمبدعين المغاربة لوقف نزيف هجرة الأدمغة.</td>\n",
              "      <td>0</td>\n",
              "    </tr>\n",
              "    <tr>\n",
              "      <th>11</th>\n",
              "      <td>يسمح هذا النفق بتعقيم الأشخاص والأشياء الصغيرة من خلال المرور عبر ضباب مبيد للجراثيم والفطريات والفيروسات. ولكن السؤال الايشكل خطرا على صحة الانسان اذا مر منه وبه مبيد ضار جدا .</td>\n",
              "      <td>0</td>\n",
              "    </tr>\n",
              "    <tr>\n",
              "      <th>12</th>\n",
              "      <td>شكرا جزيلا لكل من ساهم في إخراج هذه المنجزات الخيالية إلى الوجود والمطلوب تعميم هذه الإنفاق لتشمل الأسواق الكبرى لبيع الخضر أيضا لأن الخضر توزع على جميع أنحاء المملكة ومن تم تزويد الجامعات والكليا...</td>\n",
              "      <td>1</td>\n",
              "    </tr>\n",
              "    <tr>\n",
              "      <th>13</th>\n",
              "      <td>فكرة جيدة يمكن استعمالها في تعقيم العمال حين دخول الاوراش. وبذلك يمكن للشركة ان تبدأ مباشرة الأشغال في الأسابيع القادمة مع احترام لأعمال لااحترازات الضرورية</td>\n",
              "      <td>0</td>\n",
              "    </tr>\n",
              "    <tr>\n",
              "      <th>14</th>\n",
              "      <td>في قرية با محمد تم انشاء هذا الممر من طرف حرفيين صنع محلي</td>\n",
              "      <td>0</td>\n",
              "    </tr>\n",
              "    <tr>\n",
              "      <th>15</th>\n",
              "      <td>المرجو وضعه عند مدخل المساجد في شهر رمضان.</td>\n",
              "      <td>0</td>\n",
              "    </tr>\n",
              "    <tr>\n",
              "      <th>16</th>\n",
              "      <td>هده الإنفاق لم تستعمل الا في المغرب وتركيا وهي غير فعالة لكون مواد التعقيم مضرة جدا وتقوم بتبليل المار بها بالماء حيث أن استعمال الاشعة ما فوق البنفسجية سيكون افضل و امن و رخيص</td>\n",
              "      <td>1</td>\n",
              "    </tr>\n",
              "    <tr>\n",
              "      <th>17</th>\n",
              "      <td>Merci pour vos commentaires, le produit utilisé spécifiquement pour ce tunnel n’est pas du tout toxique. Nous avons fait des études et des essais avant la commercialisation. Produit 100% marocain ...</td>\n",
              "      <td>0</td>\n",
              "    </tr>\n",
              "  </tbody>\n",
              "</table>\n",
              "</div>"
            ],
            "text/plain": [
              "                                                                                                                                                                                                    comment  label\n",
              "0                                                                   هذا النفق المعقم يجب أن يوضع أمام المستشفيات و يكون إجباري أمام مداخل الاسواق الكبيرة لعله يكون سببا في حد من انتشار هذا الفيروس القاتل      0\n",
              "1   نسمع عن إبتكارات و لا نسمع عن براءات إختراع ! الأولى أن ندلي ببراءات إختراع حتى نعلم أن المنتوج مغربي مائة بالمائة ، لأن براءات الإختراع المغربية كما عهدنا يكون مصيرها التجاهل حتى يضطر أصحابها لله...      0\n",
              "2                                                                                                                                                                           صباح الخير\\nبرافو ،\\nعمتم صباحا      1\n",
              "3   ماشاء الله تبارك الله عندنا طاقات وابداع البلاد خاصها ستوديو دوزيم في الاختراعات ولالة العروسة في اكتشافات علميه تسهل حياة الإنسان في بيته وموازين ديال الاختراعات في علوم الفلاحة والصيد البحري وبا...      0\n",
              "4                                                                                                                                 فكرة جيد يمك استخدامها عند مداخل المستشفيات و المدارس و الفضاءات العمومية      0\n",
              "5                                                                                                                                                     بادرة طيبة المرجو تعميمه امام البنوك والاسواق الكبر ى      0\n",
              "6                                                                                                                                       كل الاحترام لجيت كونتراكتورز وتحية الاحترام لكل العمال والاداريييين      1\n",
              "7   هذه الممرات اوالانفاق ضرورية في مداخل المستشفيات. والمتاجر الكبرى. وفي الأماكن التي تكتر فيها الحركة. وجب الابتكار في كل ما يقي من العدوى. ولكن هناك فئة من المواطنين غير واعية بخطورة هذا الوباء ال...      0\n",
              "8   مجهود يستحق الإشادة والتثمين، لكن يبقى التساؤل هل هذا النفق مجرد نموذج يبرز ويستعرض قدرة الصانع والمبتكر المغربي أم أنه سيتم تصنيعه على نطاق واسع وتعميم استخدامه في كافة ربوع بلادنا معركة محاربة و...      0\n",
              "9                                                                                                                                                       و هل هذا النفق ليس له اثار جانبية على صحة المار منه      0\n",
              "10                                                                       أشعر بافتخار عندما أسمع وأرى مثل هذه الأخبار السارة. أيها المسؤولون إفتحوا أبواب الإبداع للمبدعين المغاربة لوقف نزيف هجرة الأدمغة.      0\n",
              "11                        يسمح هذا النفق بتعقيم الأشخاص والأشياء الصغيرة من خلال المرور عبر ضباب مبيد للجراثيم والفطريات والفيروسات. ولكن السؤال الايشكل خطرا على صحة الانسان اذا مر منه وبه مبيد ضار جدا .      0\n",
              "12  شكرا جزيلا لكل من ساهم في إخراج هذه المنجزات الخيالية إلى الوجود والمطلوب تعميم هذه الإنفاق لتشمل الأسواق الكبرى لبيع الخضر أيضا لأن الخضر توزع على جميع أنحاء المملكة ومن تم تزويد الجامعات والكليا...      1\n",
              "13                                             فكرة جيدة يمكن استعمالها في تعقيم العمال حين دخول الاوراش. وبذلك يمكن للشركة ان تبدأ مباشرة الأشغال في الأسابيع القادمة مع احترام لأعمال لااحترازات الضرورية      0\n",
              "14                                                                                                                                                في قرية با محمد تم انشاء هذا الممر من طرف حرفيين صنع محلي      0\n",
              "15                                                                                                                                                               المرجو وضعه عند مدخل المساجد في شهر رمضان.      0\n",
              "16                         هده الإنفاق لم تستعمل الا في المغرب وتركيا وهي غير فعالة لكون مواد التعقيم مضرة جدا وتقوم بتبليل المار بها بالماء حيث أن استعمال الاشعة ما فوق البنفسجية سيكون افضل و امن و رخيص      1\n",
              "17  Merci pour vos commentaires, le produit utilisé spécifiquement pour ce tunnel n’est pas du tout toxique. Nous avons fait des études et des essais avant la commercialisation. Produit 100% marocain ...      0"
            ]
          },
          "metadata": {
            "tags": []
          },
          "execution_count": 377
        }
      ]
    },
    {
      "cell_type": "code",
      "metadata": {
        "id": "h6T0Xj3iK3qA",
        "colab_type": "code",
        "colab": {
          "base_uri": "https://localhost:8080/",
          "height": 265
        },
        "outputId": "6a48be99-b436-4005-fb10-02285e0327db"
      },
      "source": [
        "_ = plt.hist(predictions)"
      ],
      "execution_count": 378,
      "outputs": [
        {
          "output_type": "display_data",
          "data": {
            "image/png": "[encoded data removed]",
            "text/plain": [
              "<Figure size 432x288 with 1 Axes>"
            ]
          },
          "metadata": {
            "tags": [],
            "needs_background": "light"
          }
        }
      ]
    },
    {
      "cell_type": "code",
      "metadata": {
        "id": "cuggkf4fLsRu",
        "colab_type": "code",
        "colab": {}
      },
      "source": [
        ""
      ],
      "execution_count": 0,
      "outputs": []
    },
    {
      "cell_type": "code",
      "metadata": {
        "id": "g3rvswqiMFbT",
        "colab_type": "code",
        "colab": {
          "base_uri": "https://localhost:8080/",
          "height": 319
        },
        "outputId": "c7f2823e-9f33-4f69-ba07-0397a79c3acf"
      },
      "source": [
        "fig = plt.figure()\n",
        "ax = fig.add_axes([0,0,1,1])\n",
        "ax.axis('equal')\n",
        "sentiments = ['Positive', 'Negative']\n",
        "pourcentages = [sum(predictions==1)*100/len(predictions),100-sum(predictions==1)*100/len(predictions)]\n",
        "ax.pie(pourcentages, labels = sentiments,autopct='%1.2f%%')\n",
        "plt.show()"
      ],
      "execution_count": 379,
      "outputs": [
        {
          "output_type": "display_data",
          "data": {
            "image/png": "[encoded data removed]",
            "text/plain": [
              "<Figure size 432x288 with 1 Axes>"
            ]
          },
          "metadata": {
            "tags": []
          }
        }
      ]
    },
    {
      "cell_type": "code",
      "metadata": {
        "id": "BY1sXY4pMeke",
        "colab_type": "code",
        "colab": {}
      },
      "source": [
        ""
      ],
      "execution_count": 0,
      "outputs": []
    }
  ]
}